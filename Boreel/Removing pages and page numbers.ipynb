# Please read the commit note, this is how far I've gotten so far
{
 "cells": [
  {
   "cell_type": "code",
   "execution_count": 2,
   "id": "06793011",
   "metadata": {},
   "outputs": [
    {
     "name": "stdout",
     "output_type": "stream",
     "text": [
      "This is demo text. Lorem ipsum. Another one.\n"
     ]
    }
   ],
   "source": [
    "import re \n",
    "old_string = \"This is demo text.[1] Lorem ipsum.[2] Another one.[note 1]\"\n",
    "new_string = re.sub(\"[\\(\\[].*?[\\)\\]]\", \"\", old_string)\n",
    "print(new_string)"
   ]
  },
  {
   "cell_type": "code",
   "execution_count": null,
   "id": "53ac5e06",
   "metadata": {},
   "outputs": [],
   "source": []
  },
  {
   "cell_type": "code",
   "execution_count": null,
   "id": "f1232dc0",
   "metadata": {},
   "outputs": [],
   "source": []
  },
  {
   "cell_type": "code",
   "execution_count": null,
   "id": "ee39f5c8",
   "metadata": {},
   "outputs": [],
   "source": []
  }
 ],
 "metadata": {
  "kernelspec": {
   "display_name": "Python 3 (ipykernel)",
   "language": "python",
   "name": "python3"
  },
  "language_info": {
   "codemirror_mode": {
    "name": "ipython",
    "version": 3
   },
   "file_extension": ".py",
   "mimetype": "text/x-python",
   "name": "python",
   "nbconvert_exporter": "python",
   "pygments_lexer": "ipython3",
   "version": "3.9.7"
  }
 },
 "nbformat": 4,
 "nbformat_minor": 5
}
