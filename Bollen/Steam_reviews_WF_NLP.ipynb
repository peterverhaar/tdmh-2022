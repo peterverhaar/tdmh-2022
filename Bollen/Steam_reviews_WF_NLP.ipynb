{
 "cells": [
  {
   "cell_type": "code",
   "execution_count": 1,
   "id": "eec03f49",
   "metadata": {},
   "outputs": [
    {
     "name": "stdout",
     "output_type": "stream",
     "text": [
      "Requirement already satisfied: tdmh in c:\\programdata\\anaconda3\\lib\\site-packages (0.1.7)\n"
     ]
    },
    {
     "name": "stderr",
     "output_type": "stream",
     "text": [
      "[nltk_data] Downloading package punkt to\n",
      "[nltk_data]     C:\\Users\\nandi\\AppData\\Roaming\\nltk_data...\n",
      "[nltk_data]   Package punkt is already up-to-date!\n",
      "[nltk_data] Downloading package averaged_perceptron_tagger to\n",
      "[nltk_data]     C:\\Users\\nandi\\AppData\\Roaming\\nltk_data...\n",
      "[nltk_data]   Package averaged_perceptron_tagger is already up-to-\n",
      "[nltk_data]       date!\n",
      "[nltk_data] Downloading package tagsets to\n",
      "[nltk_data]     C:\\Users\\nandi\\AppData\\Roaming\\nltk_data...\n",
      "[nltk_data]   Package tagsets is already up-to-date!\n",
      "[nltk_data] Downloading package wordnet to\n",
      "[nltk_data]     C:\\Users\\nandi\\AppData\\Roaming\\nltk_data...\n",
      "[nltk_data]   Package wordnet is already up-to-date!\n",
      "[nltk_data] Downloading package sentiwordnet to\n",
      "[nltk_data]     C:\\Users\\nandi\\AppData\\Roaming\\nltk_data...\n",
      "[nltk_data]   Package sentiwordnet is already up-to-date!\n"
     ]
    },
    {
     "data": {
      "text/plain": [
       "True"
      ]
     },
     "execution_count": 1,
     "metadata": {},
     "output_type": "execute_result"
    }
   ],
   "source": [
    "import requests\n",
    "import urllib.request\n",
    "import os\n",
    "import re\n",
    "import os.path\n",
    "import sys\n",
    "import nltk\n",
    "from nltk import word_tokenize , sent_tokenize , pos_tag\n",
    "from nltk.corpus import stopwords\n",
    "from tdmh import *\n",
    "import numpy\n",
    "import matplotlib.pyplot as plt\n",
    "import sys\n",
    "from os.path import join\n",
    "from nltk.corpus import stopwords\n",
    "import pandas as pd\n",
    "import csv \n",
    "import seaborn as sns\n",
    "from nltk.sentiment.vader import SentimentIntensityAnalyzer\n",
    "import collections\n",
    "from collections import Counter\n",
    "from wordcloud import WordCloud \n",
    "!pip install tdmh\n",
    "import ssl\n",
    "\n",
    "try:\n",
    "    _create_unverified_https_context = ssl._create_unverified_context\n",
    "except AttributeError:\n",
    "    pass\n",
    "else:\n",
    "    ssl._create_default_https_context = _create_unverified_https_context\n",
    "\n",
    "nltk.download('punkt')\n",
    "nltk.download('averaged_perceptron_tagger')\n",
    "nltk.download('tagsets')\n",
    "nltk.download('wordnet')\n",
    "nltk.download('sentiwordnet')"
   ]
  },
  {
   "cell_type": "code",
   "execution_count": 2,
   "id": "992b4f61",
   "metadata": {},
   "outputs": [
    {
     "name": "stdout",
     "output_type": "stream",
     "text": [
      " \"it\" => 6 occurrences\n",
      " \"was\" => 6 occurrences\n",
      " \"the\" => 6 occurrences\n",
      " \"best\" => 1 occurrence\n",
      " \"of\" => 6 occurrences\n",
      " \"times\" => 2 occurrences\n",
      " \"worst\" => 1 occurrence\n",
      " \"age\" => 2 occurrences\n",
      " \"wisdom\" => 1 occurrence\n",
      " \"foolishness\" => 1 occurrence\n",
      " \"epoch\" => 2 occurrences\n",
      " \"belief\" => 1 occurrence\n",
      " \"incredulity\" => 1 occurrence\n"
     ]
    },
    {
     "name": "stderr",
     "output_type": "stream",
     "text": [
      "[nltk_data] Downloading package stopwords to\n",
      "[nltk_data]     C:\\Users\\nandi\\AppData\\Roaming\\nltk_data...\n",
      "[nltk_data]   Package stopwords is already up-to-date!\n"
     ]
    }
   ],
   "source": [
    "import nltk\n",
    "from nltk import word_tokenize\n",
    "nltk.download('stopwords')\n",
    "from tdmh import * \n",
    "\n",
    "\n",
    "freq = dict()\n",
    "#To test whether it all runs well. \n",
    "quote = '''It was the best of times, it was the worst of times, \n",
    "it was the age of wisdom, it was the age of foolishness, \n",
    "it was the epoch of belief, it was the epoch of incredulity'''\n",
    "\n",
    "words = word_tokenize(quote)\n",
    "words = remove_punctuation(words)\n",
    "\n",
    "for w in words:\n",
    "    w = w.lower()\n",
    "    #freq dict is used to remove duplicates\n",
    "    freq[w] = freq.get( w, 0 ) + 1\n",
    "         \n",
    "for f in freq:\n",
    "    word = 'occurrence'\n",
    "    if freq[f] > 1:\n",
    "        word += 's'\n",
    "    print( f' \"{f}\" => {freq[f]} {word}' )\n"
   ]
  },
  {
   "cell_type": "markdown",
   "id": "54f3b500",
   "metadata": {},
   "source": [
    "## Create a list of all the files in the corpus"
   ]
  },
  {
   "cell_type": "code",
   "execution_count": 3,
   "id": "408225eb",
   "metadata": {},
   "outputs": [],
   "source": [
    "#Create a list of all texts in corpus, this includes full csv files. \n",
    "import os\n",
    "from os.path import isfile , join\n",
    "import pandas as pd\n",
    "texts = []\n",
    "dir = 'Corpus' \n",
    "\n",
    "for file in os.listdir(dir):\n",
    "    if re.search( r'csv$' , file ):\n",
    "        path = os.path.join( dir , file )\n",
    "        texts.append(path)\n",
    "\n",
    "\n",
    "\n",
    "\n",
    "\n"
   ]
  },
  {
   "cell_type": "code",
   "execution_count": null,
   "id": "ddfdab11",
   "metadata": {},
   "outputs": [],
   "source": [
    "#Create a list of negative reviews in the corpus. \n",
    "import os\n",
    "from os.path import isfile , join\n",
    "import pandas as pd\n",
    "negative_texts = []\n",
    "dir = 'Negative Reviews' \n",
    "\n",
    "for file in os.listdir(dir):\n",
    "    if re.search( r'csv$' , file ):\n",
    "        path = os.path.join( dir , file )\n",
    "        texts.append(path)\n"
   ]
  },
  {
   "cell_type": "code",
   "execution_count": null,
   "id": "50a2b496",
   "metadata": {},
   "outputs": [],
   "source": [
    "#Create a list of positive reviews in the corpus.\n",
    "import os\n",
    "from os.path import isfile , join\n",
    "import pandas as pd\n",
    "positive_texts = []\n",
    "dir = 'Positive Reviews' \n",
    "\n",
    "for file in os.listdir(dir):\n",
    "    if re.search( r'csv$' , file ):\n",
    "        path = os.path.join( dir , file )\n",
    "        texts.append(path)"
   ]
  },
  {
   "cell_type": "code",
   "execution_count": 4,
   "id": "d680a378",
   "metadata": {},
   "outputs": [],
   "source": [
    "## create text analysis functions\n",
    "def get_title(path):\n",
    "    title = os.path.basename(path)\n",
    "    if re.search( r'csv$' , title ):\n",
    "        # Remove csv extension\n",
    "        title = title[ :title.index('.csv') ]\n",
    "        # remove commas and dots\n",
    "        title = re.sub( r'[.,]' , '' , title )\n",
    "    return title\n"
   ]
  },
  {
   "cell_type": "markdown",
   "id": "f8466688",
   "metadata": {},
   "source": [
    "## create data for all  the texts in the corpus"
   ]
  },
  {
   "cell_type": "code",
   "execution_count": 6,
   "id": "fe796f3c",
   "metadata": {},
   "outputs": [
    {
     "name": "stdout",
     "output_type": "stream",
     "text": [
      "Analysing Corpus\\Arma3.csv ...\n",
      "Analysing Corpus\\Arma3_Negative.csv ...\n",
      "Analysing Corpus\\Arma3_Positive.csv ...\n",
      "Analysing Corpus\\CounterStrike.csv ...\n",
      "Analysing Corpus\\CounterStrike_Negative.csv ...\n",
      "Analysing Corpus\\CounterStrike_Positive.csv ...\n",
      "Analysing Corpus\\CrusaderKings2.csv ...\n",
      "Analysing Corpus\\CrusaderKings2_Negative.csv ...\n",
      "Analysing Corpus\\CrusaderKings2_Positive.csv ...\n",
      "Done!\n"
     ]
    }
   ],
   "source": [
    "out = open( 'data.csv' , 'w' , encoding = 'utf-8' )\n",
    "\n",
    "pos_tags = ['JJ' , 'MD' , 'JJR' , 'JJS' , 'VBD']\n",
    "\n",
    "## Header of the CSV file\n",
    "out.write('title,tokens,sentences,ttr')\n",
    "\n",
    "for t in pos_tags:\n",
    "    out.write(f',{t}')\n",
    "out.write('\\n')\n",
    "\n",
    "for text in texts:\n",
    "    \n",
    "    data = dict()\n",
    "    print( f'Analysing {text} ...')\n",
    "    \n",
    "    ## Get the title, based on the filename\n",
    "    title = get_title( text )\n",
    "    \n",
    "    ## read the full text\n",
    "    fh = open( text, encoding = 'latin-1')\n",
    "    full_text = fh.read()\n",
    "    \n",
    "    ## count the number of sentences\n",
    "    sentences = sent_tokenize(full_text)\n",
    "    data['nr_sentences'] = len(sentences)\n",
    "    \n",
    "    # dictionary to count the POS tags\n",
    "    freq_pos = dict()    \n",
    "    \n",
    "    # variables for the calculation of type-token ratio\n",
    "    ttr_cap = 3000\n",
    "    freq_ttr = dict()\n",
    " \n",
    "    # token count is initalised at 0\n",
    "    data['nr_tokens'] = 0\n",
    "\n",
    "    for s in sentences:\n",
    "        words = word_tokenize(s)\n",
    "        words = remove_punctuation(words)\n",
    "        \n",
    "        tags = pos_tag(words)\n",
    "        # Each tag consists of two values: \n",
    "        # [0]: the word and [1] the POS tag\n",
    "        for word_tag in tags:\n",
    "            word = word_tag[0]\n",
    "            tag = word_tag[1]\n",
    "            \n",
    "            # count the tokens\n",
    "            data['nr_tokens'] += 1\n",
    "            \n",
    "            # place tokens in dictionary freq_ttr\n",
    "            # only if the word count is less than ttr_cap\n",
    "            # The nr of items in the dictionary eventually equals the nr of types\n",
    "            if data['nr_tokens'] <= ttr_cap:\n",
    "                freq_ttr[ word ] = freq_ttr.get( word , 0 ) + 1\n",
    "                \n",
    "            ## Count frequencies of all the POS tags\n",
    "            freq_pos[ tag ] = freq_pos.get( tag ,0) +1\n",
    "            \n",
    "    pos_tags = ['JJ' , 'MD' , 'JJR' , 'JJS' , 'VBD']\n",
    "    for t in pos_tags:\n",
    "        data[t] = freq_pos.get(t,0)\n",
    "                \n",
    "    # Calculate TTR: number of items in freq_ttr dictionary\n",
    "    # divided by ttr_cap\n",
    "    data['ttr'] = len( freq_ttr ) / ttr_cap\n",
    "    \n",
    "    # write the results to a CSV file    \n",
    "    out.write( f\"{title},{data['nr_tokens']},{data['nr_sentences']},{data['ttr']}\" )\n",
    "    for t in pos_tags:\n",
    "        out.write( f\",{data[t] / data['nr_tokens'] }\"  )\n",
    "    out.write('\\n')\n",
    "    \n",
    "out.close()\n",
    "print('Done!')"
   ]
  },
  {
   "cell_type": "markdown",
   "id": "607d56b3",
   "metadata": {},
   "source": [
    "## Word Frequency"
   ]
  },
  {
   "cell_type": "markdown",
   "id": "e63d8b52",
   "metadata": {},
   "source": [
    "In order to ascertain the nature of the language used in Steam user reviews, a word frequency analysis may prove useful. i will first run a word frequency analysis on all the datasets, comprised out of three games available on Steam: Counter-Strike, Crusader Kings II, and Arma 3. The data allows me to filter out positive and negative reviews, so I intend to run analysis on all positive reviews, all negative reviews, as well as on each individual game. Each dataset contains 10000 reviews, though the review length varies. Games with a more RPG element tend to attract lengthier user reviews, as opposed to FPS games, which can be demonstrated with the lengthy reviews of Crusader Kings II. If I were to compare these games to each other, I would have to limit the corpus to a certain amount of tokens; however, the purpose of this research report is to ascertain whether negative reviews garner more extreme language than positive reviews. "
   ]
  },
  {
   "cell_type": "code",
   "execution_count": 7,
   "id": "0e619720",
   "metadata": {},
   "outputs": [],
   "source": [
    "# Defining sortedByValue function. Take care when running this with a large dataset, tends to break my machine. \n",
    "def sortedByValue( dict , ascending = True ):\n",
    "    if ascending: \n",
    "        return {k: v for k, v in sorted(dict.items(), key=lambda item: item[1])}\n",
    "    else:\n",
    "        return {k: v for k, v in reversed( sorted(dict.items(), key=lambda item: item[1]))}\n",
    "\n"
   ]
  },
  {
   "cell_type": "code",
   "execution_count": 8,
   "id": "96991b7e",
   "metadata": {},
   "outputs": [
    {
     "name": "stdout",
     "output_type": "stream",
     "text": [
      "Analysing Corpus\\Arma3.csv ...\n",
      "Analysing Corpus\\Arma3_Negative.csv ...\n",
      "Analysing Corpus\\Arma3_Positive.csv ...\n",
      "Analysing Corpus\\CounterStrike.csv ...\n",
      "Analysing Corpus\\CounterStrike_Negative.csv ...\n",
      "Analysing Corpus\\CounterStrike_Positive.csv ...\n",
      "Analysing Corpus\\CrusaderKings2.csv ...\n",
      "Analysing Corpus\\CrusaderKings2_Negative.csv ...\n",
      "Analysing Corpus\\CrusaderKings2_Positive.csv ...\n",
      "Done!\n"
     ]
    }
   ],
   "source": [
    "from nltk import word_tokenize\n",
    "from nltk.corpus import stopwords\n",
    "# Excluding stopwords.\n",
    "stopwords = stopwords.words('english')\n",
    "# Creating a csv file to save these results to. Decided this step is unnecessary, but leaving in just in case. \n",
    "#out = open( 'freqSR.csv' , 'w' , encoding = 'latin-1' )\n",
    "\n",
    "for text in texts:\n",
    "    print( f'Analysing {text} ...')\n",
    "    #out.write('Title,Word,Frequency')\n",
    "    #out.write('\\n')\n",
    "    #Make a dictionary containing most frequent words. \n",
    "    freq = dict()\n",
    "    \n",
    "    #Get the title, based on the filename\n",
    "    title = get_title( text )\n",
    "    \n",
    "    #Make sure the relevant column is read. Specifying the column, and making sure any invalid lines are skipped. \n",
    "    us = pd.read_csv(text , usecols = ['review_text'] , error_bad_lines=False , sep = ';')\n",
    "    us.dropna()\n",
    "    #Converting user_review column into a list.\n",
    "    uslist = list(us['review_text'])\n",
    "    \n",
    "    #Converting the list into string.\n",
    "    usstr = ' '.join(str(e) for e in uslist)\n",
    "    \n",
    "    #Tokenize!\n",
    "    words = word_tokenize(usstr)\n",
    "    words = remove_punctuation(words)\n",
    "    \n",
    "    #And now for the frequency analysis.\n",
    "#    out = open( 'freqSR.csv' , 'w' , encoding = 'latin-1' )\n",
    "    for w in words: \n",
    "        w = w.lower()\n",
    "        if w not in stopwords:\n",
    "            freq[w] = freq.get( w, 0 ) + 1\n",
    "        for f in freq: \n",
    "            word = 'occurrence'\n",
    "            if freq[f] > 1:\n",
    "                word += 's'\n",
    "        #Save results of analysis to CSV file that was created earlier. Note: It also takes foreign characters as words. \n",
    "  #      for f in sortedByValue(freq, ascending = False ) : \n",
    " #           print( f\"{title} , {f} , {freq[f]} , {word} \" )\n",
    "#            out.write('\\n')\n",
    "        \n",
    "#df.to_csv(\"wordfreqSR.csv\", header=headerList, index=False)\n",
    "#out.close()\n",
    "print('Done!')\n",
    "        \n",
    "    "
   ]
  },
  {
   "cell_type": "markdown",
   "id": "882c6f37",
   "metadata": {},
   "source": [
    "## WordCloud of current Steam user reviews dataset. ##"
   ]
  },
  {
   "cell_type": "code",
   "execution_count": 9,
   "id": "e64cfd88",
   "metadata": {},
   "outputs": [
    {
     "data": {
      "image/png": "[encoded data removed]",
      "text/plain": [
       "<Figure size 432x288 with 1 Axes>"
      ]
     },
     "metadata": {
      "needs_background": "light"
     },
     "output_type": "display_data"
    }
   ],
   "source": [
    "# Reminder to self: This line allows the Wordcloud to show up in a notebook. \n",
    "%matplotlib inline\n",
    "import sys\n",
    "\n",
    "import matplotlib.pyplot as plt \n",
    "from wordcloud import WordCloud \n",
    "\n",
    "wordcloud = WordCloud( background_color=\"white\",  width=2000,height=1500, max_words= 100,relative_scaling=0.5,normalize_plurals=True).generate_from_frequencies(freq)\n",
    "\n",
    "plt.imshow(wordcloud, interpolation='bilinear')\n",
    "plt.axis(\"off\")\n",
    "plt.show()"
   ]
  },
  {
   "cell_type": "code",
   "execution_count": 10,
   "id": "518e7c85",
   "metadata": {},
   "outputs": [
    {
     "name": "stdout",
     "output_type": "stream",
     "text": [
      "\n",
      "100 most frequent words:\n",
      "game -> 9378\n",
      "strategy -> 1760\n",
      "like -> 1579\n",
      "play -> 1554\n",
      "one -> 1496\n",
      "games -> 1466\n",
      "get -> 1327\n",
      "time -> 1219\n",
      "hours -> 1189\n",
      "great -> 1143\n",
      "best -> 1098\n",
      "would -> 1055\n",
      "dlc -> 1014\n",
      "played -> 1008\n",
      "good -> 924\n",
      "fun -> 924\n",
      "ever -> 858\n",
      "really -> 799\n",
      "kings -> 765\n",
      "paradox -> 743\n",
      "love -> 683\n",
      "playing -> 683\n",
      "grand -> 679\n",
      "much -> 674\n",
      "learning -> 662\n",
      "crusader -> 657\n",
      "even -> 592\n",
      "king -> 568\n",
      "war -> 543\n",
      "son -> 532\n",
      "still -> 528\n",
      "many -> 528\n",
      "first -> 521\n",
      "buy -> 519\n",
      "medieval -> 501\n",
      "want -> 498\n",
      "dynasty -> 481\n",
      "family -> 467\n",
      "well -> 467\n",
      "make -> 452\n",
      "empire -> 442\n",
      "2 -> 438\n",
      "recommend -> 436\n",
      "start -> 412\n",
      "history -> 412\n",
      "curve -> 409\n",
      "ii -> 399\n",
      "amazing -> 398\n",
      "wife -> 394\n",
      "years -> 390\n",
      "fuck -> 386\n",
      "new -> 383\n",
      "worth -> 382\n",
      "learn -> 380\n",
      "got -> 380\n",
      "every -> 378\n",
      "lot -> 375\n",
      "way -> 372\n",
      "thrones -> 370\n",
      "take -> 366\n",
      "also -> 358\n",
      "people -> 348\n",
      "could -> 342\n",
      "kill -> 338\n",
      "never -> 337\n",
      "kingdom -> 331\n",
      "simulator -> 330\n",
      "things -> 328\n",
      "know -> 326\n",
      "go -> 316\n",
      "made -> 313\n",
      "old -> 313\n",
      "think -> 306\n",
      "life -> 294\n",
      "world -> 293\n",
      "hard -> 290\n",
      "pretty -> 281\n",
      "depth -> 281\n",
      "bit -> 279\n",
      "mod -> 274\n",
      "steep -> 265\n",
      "say -> 261\n",
      "year -> 260\n",
      "better -> 260\n",
      "awesome -> 259\n",
      "back -> 258\n",
      "enjoy -> 258\n",
      "complex -> 254\n",
      "need -> 251\n",
      "ck2 -> 250\n",
      "keep -> 250\n",
      "without -> 246\n",
      "europe -> 246\n",
      "little -> 244\n",
      "total -> 242\n",
      "quite -> 240\n",
      "makes -> 240\n",
      "tutorial -> 240\n",
      "try -> 240\n",
      "long -> 240\n"
     ]
    }
   ],
   "source": [
    "#100 most common words in entire dataset.\n",
    "\n",
    "# adding header\n",
    "#headerList = ['app_name', 'word', 'occurrence']\n",
    "  \n",
    "# converting data frame to csv\n",
    "#df.to_csv(\"wordfreqSR.csv\", header=headerList, index=False)\n",
    "\n",
    "#df.head()\n",
    "out = open( 'SRWF.txt' , 'w' , encoding = 'utf-8' )\n",
    "count = 0 \n",
    "max = 100\n",
    "\n",
    "print( f'\\n{max} most frequent words:' )\n",
    " \n",
    "            \n",
    "for f in sortedByValue( freq , ascending = False ) :\n",
    "    count += 1\n",
    "    out.write(  f'{f} -> {freq[f]}' )\n",
    "    out.write('\\n')\n",
    "    print( f'{f} -> {freq[f]}' )\n",
    "    if max == count:\n",
    "        break\n",
    "out.close()\n",
    "    "
   ]
  },
  {
   "cell_type": "markdown",
   "id": "9225853a",
   "metadata": {},
   "source": [
    "## Sentiment Analysis."
   ]
  },
  {
   "cell_type": "code",
   "execution_count": null,
   "id": "d3168ca4",
   "metadata": {},
   "outputs": [],
   "source": [
    "# Install if needed. \n",
    "##!pip install vaderSentiment"
   ]
  },
  {
   "cell_type": "code",
   "execution_count": null,
   "id": "c308cb2b",
   "metadata": {},
   "outputs": [],
   "source": [
    "from vaderSentiment.vaderSentiment import SentimentIntensityAnalyzer\n",
    "\n",
    "# Initialize VADER\n",
    "sentimentAnalyser = SentimentIntensityAnalyzer()"
   ]
  },
  {
   "cell_type": "code",
   "execution_count": null,
   "id": "a7c80c31",
   "metadata": {},
   "outputs": [],
   "source": [
    "# Lazy man's import of the correct file but I found that accuracy was better than trying to make it elegant. \n",
    "# Also making sure that the CSV file is being read as a string and not a float.\n",
    "# Prints head to check file is being parsed properly. \n",
    "jw = pd.read_csv('C:\\\\Users\\\\nandi\\\\Documents\\\\BDMS Master\\\\Semester 2\\\\Text and Data Mining\\\\Steam_Reviews_Research_Project\\\\Corpus\\\\CrusaderKings2_Negative.csv' , usecols = ['review_text'] , error_bad_lines=False )\n",
    "jw = jw.astype(str)\n",
    "jw.head()"
   ]
  },
  {
   "cell_type": "code",
   "execution_count": null,
   "id": "62111e3d",
   "metadata": {},
   "outputs": [],
   "source": [
    "# Defining a function that only provides compound score - positive and negative score redundant in this case. \n",
    "def calculate_sentiment(text):\n",
    "    # Run VADER on the text\n",
    "    scores = sentimentAnalyser.polarity_scores(text)\n",
    "    # Extract the compound score\n",
    "    compound_score = scores['compound']\n",
    "    # Return compound score\n",
    "    return compound_score"
   ]
  },
  {
   "cell_type": "code",
   "execution_count": null,
   "id": "5fe91861",
   "metadata": {},
   "outputs": [],
   "source": [
    "#Test on an example user review from Crusader Kings 2.\n",
    "calculate_sentiment('My brother married my daughter and then I had her killed because the Pope asked me to. 10/10.')"
   ]
  },
  {
   "cell_type": "code",
   "execution_count": null,
   "id": "45617ece",
   "metadata": {},
   "outputs": [],
   "source": [
    "# Testing the function calculate_sentiment() on corpus. \n",
    "jw['sentiment_score'] = jw['review_text'].apply(calculate_sentiment)\n",
    "print(jw['sentiment_score'])"
   ]
  },
  {
   "cell_type": "code",
   "execution_count": null,
   "id": "fe2602ec",
   "metadata": {},
   "outputs": [],
   "source": [
    "# Calculates the average compound score for a whole CSV file. \n",
    "average = sum(jw['sentiment_score']) / len(jw['sentiment_score'])\n",
    "print(average)"
   ]
  },
  {
   "cell_type": "code",
   "execution_count": null,
   "id": "87b326a5",
   "metadata": {},
   "outputs": [],
   "source": [
    "# Sorts reviews by lowest sentiment score to highest - 50 reviews. \n",
    "jw.sort_values(by='sentiment_score', ascending=True)[:50]"
   ]
  },
  {
   "cell_type": "code",
   "execution_count": null,
   "id": "ac77e08b",
   "metadata": {},
   "outputs": [],
   "source": [
    "# Sorts reviews by highest sentiment score to lowest - 50 reviews. \n",
    "jw.sort_values(by='sentiment_score', ascending=False)[:50]"
   ]
  },
  {
   "cell_type": "code",
   "execution_count": null,
   "id": "29742227",
   "metadata": {},
   "outputs": [],
   "source": [
    "# Writes all the sentiment scores to a .txt file. Does not function well with a large CSV file. \n",
    "with open('sentimentscores.txt' , 'w', encoding='utf-8') as outfile:\n",
    "    for index, row in jw.iterrows():\n",
    "        sentimentAnalyser.polarity_scores(jw['review_text'])\n",
    "        outfile.write(f\"\"\"'{row}' \\n\n",
    "        😓 Negative Sentiment: {sentiment_scores['neg']}  \n",
    "        😒 Neutral Sentiment: {sentiment_scores['neu']} \n",
    "        🥳 Positive Sentiment: {sentiment_scores['pos']} \n",
    "        🥴 Compound Sentiment: {sentiment_scores['compound']}\n",
    "        \\n\"\"\")\n",
    "        \n",
    "out.close()\n",
    "        \n",
    "    \n"
   ]
  },
  {
   "cell_type": "code",
   "execution_count": null,
   "id": "97955c9f",
   "metadata": {},
   "outputs": [],
   "source": [
    "# I am not sure why I have this here and above but I am loath to delete this. I think I meant to have it printed to a new CSV file but gave up while I was struggling with overly large CSV files. \n",
    "jw['sentiment_score'] = jw['review_text'].apply(calculate_sentiment)\n",
    "print(jw['sentiment_score'])"
   ]
  },
  {
   "cell_type": "code",
   "execution_count": null,
   "id": "c48e7de2",
   "metadata": {},
   "outputs": [],
   "source": [
    "# Calculates the negative, neutral, positive, and compound score of each row in a CSV file. Cannot be run on a large CSV file. \n",
    "for index, row in jw.iterrows():\n",
    "        sentimentAnalyser.polarity_scores(jw['review_text'])\n",
    "        print(f\"\"\"'{row}' \\n\n",
    "        😓 Negative Sentiment: {sentiment_scores['neg']}  \n",
    "        😒 Neutral Sentiment: {sentiment_scores['neu']} \n",
    "        🥳 Positive Sentiment: {sentiment_scores['pos']} \n",
    "        🥴 Compound Sentiment: {sentiment_scores['compound']}\n",
    "        \\n\"\"\")"
   ]
  }
 ],
 "metadata": {
  "kernelspec": {
   "display_name": "Python 3",
   "language": "python",
   "name": "python3"
  },
  "language_info": {
   "codemirror_mode": {
    "name": "ipython",
    "version": 3
   },
   "file_extension": ".py",
   "mimetype": "text/x-python",
   "name": "python",
   "nbconvert_exporter": "python",
   "pygments_lexer": "ipython3",
   "version": "3.8.8"
  }
 },
 "nbformat": 4,
 "nbformat_minor": 5
}
