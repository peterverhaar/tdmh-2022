{
 "cells": [
  {
   "cell_type": "code",
   "execution_count": 1,
   "id": "e02b16e3",
   "metadata": {},
   "outputs": [
    {
     "name": "stdout",
     "output_type": "stream",
     "text": [
      "Requirement already satisfied: tdmh in c:\\users\\rs\\anaconda3\\lib\\site-packages (0.1.7)\n"
     ]
    }
   ],
   "source": [
    "!pip install tdmh"
   ]
  },
  {
   "cell_type": "code",
   "execution_count": null,
   "id": "fca720ce",
   "metadata": {},
   "outputs": [],
   "source": [
    "with open ( 'FP_isto.txt' , encoding = 'utf-8' ) as poem:\n",
    "    "
   ]
  }
 ],
 "metadata": {
  "kernelspec": {
   "display_name": "Python 3 (ipykernel)",
   "language": "python",
   "name": "python3"
  },
  "language_info": {
   "codemirror_mode": {
    "name": "ipython",
    "version": 3
   },
   "file_extension": ".py",
   "mimetype": "text/x-python",
   "name": "python",
   "nbconvert_exporter": "python",
   "pygments_lexer": "ipython3",
   "version": "3.9.7"
  }
 },
 "nbformat": 4,
 "nbformat_minor": 5
}
