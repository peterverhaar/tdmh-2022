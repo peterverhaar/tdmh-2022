{
 "cells": [
  {
   "cell_type": "code",
   "execution_count": null,
   "id": "58d0d548",
   "metadata": {},
   "outputs": [],
   "source": [
    "import os\n",
    "import re\n",
    "import nltk\n",
    "from nltk import word_tokenize , sent_tokenize , pos_tag\n",
    "from tdmh import *\n",
    "from os.path import join\n",
    "import stanza"
   ]
  },
  {
   "cell_type": "markdown",
   "id": "74827d42",
   "metadata": {},
   "source": [
    "## Download the texts for arquivopessoa.net"
   ]
  },
  {
   "cell_type": "code",
   "execution_count": null,
   "id": "7fd4683f",
   "metadata": {},
   "outputs": [],
   "source": [
    "dir = 'Corpus'\n",
    "if not os.path.isdir( dir ):\n",
    "    os.mkdir( dir )"
   ]
  },
  {
   "cell_type": "code",
   "execution_count": null,
   "id": "b1d9f914",
   "metadata": {},
   "outputs": [],
   "source": [
    "import os\n",
    "import requests\n",
    "from bs4 import BeautifulSoup\n",
    "import re\n",
    "\n",
    "for i in range(0,5000):\n",
    "    \n",
    "    url = f'http://arquivopessoa.net/textos/{i}'\n",
    "    print(url)\n",
    "\n",
    "    response = requests.get(url)\n",
    "    if response:\n",
    "        response.encoding = 'utf-8'\n",
    "        html_page = response.text\n",
    "        soup = BeautifulSoup( html_page,\"lxml\")\n",
    "\n",
    "        author = soup.find_all('div', {'class': 'autor'} )\n",
    "        title = soup.find_all('h1', {'class': 'titulo-texto'} )\n",
    "        poem = soup.find_all('div', {'class': 'texto-poesia'} )\n",
    "        date = soup.find_all('div', {'class': 'data'} )\n",
    "\n",
    "        dir_name = re.sub( r'\\s' , '_' , author[0].text )\n",
    "        \n",
    "        path = os.path.join('Corpus' , dir_name)\n",
    "        if not os.path.isdir( path ):\n",
    "            os.mkdir( path )\n",
    "            \n",
    "        if len(poem) > 0:\n",
    "\n",
    "            file_name = re.sub( r'\\s' , '_' , title[0].text.strip() )\n",
    "            file_name = re.sub( r'[/]' , '' , file_name )\n",
    "            file_name = re.sub( r'[,.]' , '' , file_name )\n",
    "            out = open( f'{os.path.join( path , file_name )}.txt' , 'w' , encoding = 'utf-8')\n",
    "            out.write( str(poem[0].text) )\n",
    "            out.close()"
   ]
  },
  {
   "cell_type": "markdown",
   "id": "54f3b500",
   "metadata": {},
   "source": [
    "## Create a list of all the files in the corpus"
   ]
  },
  {
   "cell_type": "code",
   "execution_count": null,
   "id": "408225eb",
   "metadata": {},
   "outputs": [],
   "source": [
    "texts = []\n",
    "dir = 'Corpus'\n",
    "\n",
    "for entry in os.listdir(dir):\n",
    "    # dir + subdirectory\n",
    "    path = os.path.join(dir,entry)\n",
    "    if os.path.isdir(path):\n",
    "        \n",
    "        for file in os.listdir(path):\n",
    "            # dir + subdirectory + file \n",
    "            file_path = join(path,file)\n",
    "            texts.append( file_path )\n",
    "            print( file_path )\n"
   ]
  },
  {
   "cell_type": "code",
   "execution_count": null,
   "id": "b9426637",
   "metadata": {},
   "outputs": [],
   "source": []
  },
  {
   "cell_type": "markdown",
   "id": "886c956f",
   "metadata": {},
   "source": [
    "## create text analysis functions"
   ]
  },
  {
   "cell_type": "code",
   "execution_count": null,
   "id": "48dd9af6",
   "metadata": {},
   "outputs": [],
   "source": [
    "stanza.download('pt')       # This downloads the English models for the neural pipeline\n",
    "nlp = stanza.Pipeline('pt')\n",
    "\n",
    "def get_title(path):\n",
    "    title = os.path.basename(path)\n",
    "    if re.search( r'txt$' , title ):\n",
    "        # Remove txt extension\n",
    "        title = title[ :title.index('.txt') ]\n",
    "        # remove commas and dots\n",
    "        title = re.sub( r'[.,]' , '' , title )\n",
    "    return title"
   ]
  },
  {
   "cell_type": "markdown",
   "id": "f8466688",
   "metadata": {},
   "source": [
    "## create data for all  the texts in the corpus"
   ]
  },
  {
   "cell_type": "code",
   "execution_count": null,
   "id": "40d90796",
   "metadata": {},
   "outputs": [],
   "source": [
    "\n",
    "    \n",
    "\n",
    "\n",
    "#print(*[f'word: {word.text}\\tupos: {word.upos}\\txpos: {word.xpos}\\tfeats: {word.feats if word.feats else \"_\"}' for sent in doc.sentences for word in sent.words], sep='\\n')\n"
   ]
  },
  {
   "cell_type": "code",
   "execution_count": null,
   "id": "fe796f3c",
   "metadata": {},
   "outputs": [],
   "source": [
    "out = open( 'data.csv' , 'w' , encoding = 'utf-8' )\n",
    "\n",
    "pos_tags = ['ADJ' , 'ADV' , 'VERB' , 'NOUN']\n",
    "\n",
    "## Header of the CSV file\n",
    "out.write('title,heteronym,tokens,sentences,ttr')\n",
    "\n",
    "for t in pos_tags:\n",
    "    out.write(f',{t}')\n",
    "out.write('\\n')\n",
    "\n",
    "for text in texts:\n",
    "    \n",
    "    data = dict()\n",
    "    print( f'Analysing {text} ...')\n",
    "    \n",
    "    path = os.path.normpath(path)\n",
    "    parts = path.split(os.sep)\n",
    "    data['heteronym'] = parts[1].strip()\n",
    "    \n",
    "    ## Get the title, based on the filename\n",
    "    title = get_title( text )\n",
    "    \n",
    "    ## read the full text\n",
    "    fh = open( text, encoding = 'utf-8')\n",
    "    full_text = fh.read()\n",
    "    \n",
    "    ## count the number of sentences\n",
    "    sentences = sent_tokenize(full_text)\n",
    "    data['nr_sentences'] = len(sentences)\n",
    "    \n",
    "    # dictionary to count the POS tags\n",
    "    freq_pos = dict()    \n",
    "    \n",
    "    # variables for the calculation of type-token ratio\n",
    "    ttr_cap = 3000\n",
    "    freq_ttr = dict()\n",
    " \n",
    "    # token count is initalised at 0\n",
    "    data['nr_tokens'] = 0\n",
    "\n",
    "    for s in sentences:\n",
    "        words = word_tokenize(s)\n",
    "        words = remove_punctuation(words)\n",
    "        \n",
    "        doc = nlp(s)\n",
    "    \n",
    "        for sent in doc.sentences:\n",
    "            for word in sent.words:\n",
    "                word.text = word.text.lower()\n",
    "                #print(word.text , ' => ' , word.upos)\n",
    "    \n",
    "                # count the tokens\n",
    "                data['nr_tokens'] += 1\n",
    "\n",
    "                # place tokens in dictionary freq_ttr\n",
    "                # only if the word count is less than ttr_cap\n",
    "                # The nr of items in the dictionary eventually equals the nr of types\n",
    "                if data['nr_tokens'] <= ttr_cap:\n",
    "                    freq_ttr[ word.text ] = freq_ttr.get( word.text , 0 ) + 1\n",
    "                \n",
    "            ## Count frequencies of all the POS tags\n",
    "            freq_pos[ word.upos ] = freq_pos.get( word.upos ,0) +1\n",
    "            \n",
    "\n",
    "    for t in pos_tags:\n",
    "        data[t] = freq_pos.get(t,0)\n",
    "                \n",
    "    # Calculate TTR: number of items in freq_ttr dictyionary\n",
    "    # divided by ttr_cap\n",
    "    data['ttr'] = len( freq_ttr ) / ttr_cap\n",
    "    \n",
    "    # write the results to a CSV file    \n",
    "    out.write( f\"{title},{data['heteronym']},{data['nr_tokens']},{data['nr_sentences']},{data['ttr']}\" )\n",
    "    for t in pos_tags:\n",
    "        out.write( f\",{data[t] / data['nr_tokens'] }\"  )\n",
    "    out.write('\\n')\n",
    "    \n",
    "out.close()\n",
    "print('Done!')"
   ]
  },
  {
   "cell_type": "code",
   "execution_count": null,
   "id": "a043f7dc",
   "metadata": {},
   "outputs": [],
   "source": []
  }
 ],
 "metadata": {
  "kernelspec": {
   "display_name": "Python 3 (ipykernel)",
   "language": "python",
   "name": "python3"
  },
  "language_info": {
   "codemirror_mode": {
    "name": "ipython",
    "version": 3
   },
   "file_extension": ".py",
   "mimetype": "text/x-python",
   "name": "python",
   "nbconvert_exporter": "python",
   "pygments_lexer": "ipython3",
   "version": "3.7.9"
  }
 },
 "nbformat": 4,
 "nbformat_minor": 5
}
