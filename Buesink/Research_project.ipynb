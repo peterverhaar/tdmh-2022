{
 "cells": [
  {
   "cell_type": "code",
   "execution_count": 9,
   "id": "58d0d548",
   "metadata": {},
   "outputs": [],
   "source": [
    "import os\n",
    "import re\n",
    "import nltk\n",
    "from nltk import word_tokenize , sent_tokenize , pos_tag\n",
    "from tdmh import *\n",
    "import pandas as pd\n"
   ]
  },
  {
   "cell_type": "markdown",
   "id": "607133c3",
   "metadata": {},
   "source": [
    "# Organise the tweets\n",
    "\n",
    "Read all the downloaded tweets from the TSV files."
   ]
  },
  {
   "cell_type": "code",
   "execution_count": 10,
   "id": "4e6404e0",
   "metadata": {},
   "outputs": [],
   "source": [
    "path = os.path.join( 'HanaKimura' , 'tweets_hanakimura.tsv' )\n",
    "df1 = pd.read_csv( path  , encoding = 'utf-8' , sep = '\\t' )\n",
    "\n",
    "path = os.path.join( 'HanaKimura' , 'tweets_hanakimura_japanese.tsv' )\n",
    "df2 = pd.read_csv( path  , encoding = 'utf-8' , sep = '\\t' )\n",
    "\n",
    "path = os.path.join( 'HanaKimura' , 'tweets_kimurahana.tsv' )\n",
    "df3 = pd.read_csv( path  , encoding = 'utf-8' , sep = '\\t' )"
   ]
  },
  {
   "cell_type": "markdown",
   "id": "d3de72df",
   "metadata": {},
   "source": [
    "Change the 'created_at' date into a 'dateframe'"
   ]
  },
  {
   "cell_type": "code",
   "execution_count": 11,
   "id": "808c8b73",
   "metadata": {},
   "outputs": [],
   "source": [
    "df = pd.concat([df1, df2, df3])\n",
    "df['created_at']  = pd.to_datetime( df['created_at'] ).dt.tz_localize(None)"
   ]
  },
  {
   "cell_type": "markdown",
   "id": "7cbd3af9",
   "metadata": {},
   "source": [
    "The date of Hana Kimura's death"
   ]
  },
  {
   "cell_type": "code",
   "execution_count": 12,
   "id": "8987cb44",
   "metadata": {},
   "outputs": [],
   "source": [
    "date = pd.to_datetime( '2020-05-23' )"
   ]
  },
  {
   "cell_type": "code",
   "execution_count": 18,
   "id": "b3007bf2",
   "metadata": {},
   "outputs": [],
   "source": [
    "dir = 'Corpus'\n",
    "\n",
    "if not os.path.exists(dir):\n",
    "    os.mkdir(dir)\n",
    "\n",
    "path = os.path.join(dir, 'tweets_before_japanese.txt')\n",
    "out_before_japanese = open(  path, 'w' , encoding = 'utf-8')\n",
    "\n",
    "path = os.path.join(dir, 'tweets_before_english.txt' )\n",
    "out_before_english = open( path , 'w' , encoding = 'utf-8')\n",
    "\n",
    "path = os.path.join(dir, 'tweets_after_japanese.txt' )\n",
    "out_after_japanese = open( path , 'w' , encoding = 'utf-8')\n",
    "\n",
    "path = os.path.join(dir, 'tweets_after__english.txt' )\n",
    "out_after_english = open( path , 'w' , encoding = 'utf-8')\n",
    "\n",
    "\n",
    "for i,row in df.iterrows():\n",
    "    if not re.search( r'^RT' , row['text'] ):\n",
    "        if row['created_at'] < date:\n",
    "            if row['lang'] == 'ja' :\n",
    "                out_before_japanese.write( f\"{row['text']}\\n\" )\n",
    "            else:\n",
    "                out_before_english.write( f\"{row['text']}\\n\" )\n",
    "        else:\n",
    "            if row['lang'] == 'ja':\n",
    "                out_after_japanese.write( f\"{row['text']}\\n\" )\n",
    "            else:\n",
    "                out_after_english.write( f\"{row['text']}\\n\" )\n",
    "            \n",
    "        \n",
    "out_before_japanese.close()\n",
    "out_before_english.close()\n",
    "out_after_japanese.close()\n",
    "out_after_english.close()\n",
    "    "
   ]
  },
  {
   "cell_type": "markdown",
   "id": "54f3b500",
   "metadata": {},
   "source": [
    "## Create a list of all the files in the corpus"
   ]
  },
  {
   "cell_type": "code",
   "execution_count": 19,
   "id": "408225eb",
   "metadata": {},
   "outputs": [],
   "source": [
    "\n",
    "\n",
    "texts = []\n",
    "dir = 'Corpus'\n",
    "\n",
    "for file in os.listdir(dir):\n",
    "    if re.search( r'txt$' , file ):\n",
    "        path = os.path.join( dir , file )\n",
    "        texts.append(path)\n"
   ]
  },
  {
   "cell_type": "code",
   "execution_count": 15,
   "id": "d680a378",
   "metadata": {},
   "outputs": [],
   "source": [
    "## create text analysis functions"
   ]
  },
  {
   "cell_type": "code",
   "execution_count": 16,
   "id": "48dd9af6",
   "metadata": {},
   "outputs": [],
   "source": [
    "def get_title(path):\n",
    "    title = os.path.basename(path)\n",
    "    if re.search( r'txt$' , title ):\n",
    "        # Remove txt extension\n",
    "        title = title[ :title.index('.txt') ]\n",
    "        # remove commas and dots\n",
    "        title = re.sub( r'[.,]' , '' , title )\n",
    "    return title"
   ]
  },
  {
   "cell_type": "markdown",
   "id": "f8466688",
   "metadata": {},
   "source": [
    "## create data for all  the texts in the corpus"
   ]
  },
  {
   "cell_type": "code",
   "execution_count": 21,
   "id": "fe796f3c",
   "metadata": {},
   "outputs": [
    {
     "name": "stdout",
     "output_type": "stream",
     "text": [
      "Analysing Corpus/tweets_before_english.txt ...\n",
      "Analysing Corpus/tweets_after__english.txt ...\n",
      "Analysing Corpus/tweets_after_japanese.txt ...\n",
      "Analysing Corpus/tweets_before_japanese.txt ...\n",
      "Done!\n"
     ]
    }
   ],
   "source": [
    "out = open( 'data.csv' , 'w' , encoding = 'utf-8' )\n",
    "\n",
    "pos_tags = ['JJ' , 'MD' , 'JJR' , 'JJS' , 'VBD']\n",
    "\n",
    "## Header of the CSV file\n",
    "out.write('title,tokens,sentences,ttr')\n",
    "\n",
    "for t in pos_tags:\n",
    "    out.write(f',{t}')\n",
    "out.write('\\n')\n",
    "\n",
    "for text in texts:\n",
    "    \n",
    "    data = dict()\n",
    "    print( f'Analysing {text} ...')\n",
    "    \n",
    "    ## Get the title, based on the filename\n",
    "    title = get_title( text )\n",
    "    \n",
    "    ## read the full text\n",
    "    fh = open( text, encoding = 'utf-8')\n",
    "    full_text = fh.read()\n",
    "    \n",
    "    ## count the number of sentences\n",
    "    sentences = sent_tokenize(full_text)\n",
    "    data['nr_sentences'] = len(sentences)\n",
    "    \n",
    "    # dictionary to count the POS tags\n",
    "    freq_pos = dict()    \n",
    "    \n",
    "    # variables for the calculation of type-token ratio\n",
    "    ttr_cap = 3000\n",
    "    freq_ttr = dict()\n",
    " \n",
    "    # token count is initalised at 0\n",
    "    data['nr_tokens'] = 0\n",
    "\n",
    "    for s in sentences:\n",
    "        words = word_tokenize(s)\n",
    "        words = remove_punctuation(words)\n",
    "        \n",
    "        tags = pos_tag(words)\n",
    "        # Each tag consists of two values: \n",
    "        # [0]: the word and [1] the POS tag\n",
    "        for word_tag in tags:\n",
    "            word = word_tag[0]\n",
    "            tag = word_tag[1]\n",
    "            \n",
    "            # count the tokens\n",
    "            data['nr_tokens'] += 1\n",
    "            \n",
    "            # place tokens in dictionary freq_ttr\n",
    "            # only if the word count is less than ttr_cap\n",
    "            # The nr of items in the dictionary eventually equals the nr of types\n",
    "            if data['nr_tokens'] <= ttr_cap:\n",
    "                freq_ttr[ word ] = freq_ttr.get( word , 0 ) + 1\n",
    "                \n",
    "            ## Count frequencies of all the POS tags\n",
    "            freq_pos[ tag ] = freq_pos.get( tag ,0) +1\n",
    "            \n",
    "    pos_tags = ['JJ' , 'MD' , 'JJR' , 'JJS' , 'VBD']\n",
    "    for t in pos_tags:\n",
    "        data[t] = freq_pos.get(t,0)\n",
    "                \n",
    "    # Calculate TTR: number of items in freq_ttr dictyionary\n",
    "    # divided by ttr_cap\n",
    "    data['ttr'] = len( freq_ttr ) / ttr_cap\n",
    "    \n",
    "    # write the results to a CSV file    \n",
    "    out.write( f\"{title},{data['nr_tokens']},{data['nr_sentences']},{data['ttr']}\" )\n",
    "    for t in pos_tags:\n",
    "        out.write( f\",{data[t] / data['nr_tokens'] }\"  )\n",
    "    out.write('\\n')\n",
    "    \n",
    "out.close()\n",
    "print('Done!')"
   ]
  },
  {
   "cell_type": "code",
   "execution_count": null,
   "id": "a043f7dc",
   "metadata": {},
   "outputs": [],
   "source": []
  }
 ],
 "metadata": {
  "kernelspec": {
   "display_name": "Python 3 (ipykernel)",
   "language": "python",
   "name": "python3"
  },
  "language_info": {
   "codemirror_mode": {
    "name": "ipython",
    "version": 3
   },
   "file_extension": ".py",
   "mimetype": "text/x-python",
   "name": "python",
   "nbconvert_exporter": "python",
   "pygments_lexer": "ipython3",
   "version": "3.7.9"
  }
 },
 "nbformat": 4,
 "nbformat_minor": 5
}
