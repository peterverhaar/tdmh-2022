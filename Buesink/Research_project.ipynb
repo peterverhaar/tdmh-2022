{
 "cells": [
  {
   "cell_type": "code",
   "execution_count": 22,
   "id": "58d0d548",
   "metadata": {},
   "outputs": [],
   "source": [
    "import os\n",
    "import re\n",
    "import nltk\n",
    "from nltk import word_tokenize , sent_tokenize , pos_tag\n",
    "from tdmh import *\n",
    "import pandas as pd\n",
    "import ja_core_news_trf"
   ]
  },
  {
   "cell_type": "code",
   "execution_count": 18,
   "id": "8bba8d48",
   "metadata": {},
   "outputs": [
    {
     "name": "stdout",
     "output_type": "stream",
     "text": [
      "Requirement already satisfied: pip in /Users/mariebuesink/opt/anaconda3/lib/python3.9/site-packages (21.2.4)\n",
      "Collecting pip\n",
      "  Downloading pip-22.0.4-py3-none-any.whl (2.1 MB)\n",
      "\u001b[K     |████████████████████████████████| 2.1 MB 3.1 MB/s eta 0:00:01     |███████████████████████████████ | 2.1 MB 3.1 MB/s eta 0:00:01\n",
      "\u001b[?25hRequirement already satisfied: setuptools in /Users/mariebuesink/opt/anaconda3/lib/python3.9/site-packages (58.0.4)\n",
      "Collecting setuptools\n",
      "  Downloading setuptools-62.0.0-py3-none-any.whl (1.1 MB)\n",
      "\u001b[K     |████████████████████████████████| 1.1 MB 4.8 MB/s eta 0:00:01\n",
      "\u001b[?25hRequirement already satisfied: wheel in /Users/mariebuesink/opt/anaconda3/lib/python3.9/site-packages (0.37.0)\n",
      "Collecting wheel\n",
      "  Downloading wheel-0.37.1-py2.py3-none-any.whl (35 kB)\n",
      "Installing collected packages: wheel, setuptools, pip\n",
      "  Attempting uninstall: wheel\n",
      "    Found existing installation: wheel 0.37.0\n",
      "    Uninstalling wheel-0.37.0:\n",
      "      Successfully uninstalled wheel-0.37.0\n",
      "  Attempting uninstall: setuptools\n",
      "    Found existing installation: setuptools 58.0.4\n",
      "    Uninstalling setuptools-58.0.4:\n",
      "      Successfully uninstalled setuptools-58.0.4\n",
      "  Attempting uninstall: pip\n",
      "    Found existing installation: pip 21.2.4\n",
      "    Uninstalling pip-21.2.4:\n",
      "      Successfully uninstalled pip-21.2.4\n",
      "\u001b[31mERROR: pip's dependency resolver does not currently take into account all the packages that are installed. This behaviour is the source of the following dependency conflicts.\n",
      "spyder 5.1.5 requires pyqt5<5.13, which is not installed.\n",
      "spyder 5.1.5 requires pyqtwebengine<5.13, which is not installed.\n",
      "conda-repo-cli 1.0.4 requires pathlib, which is not installed.\n",
      "anaconda-project 0.10.1 requires ruamel-yaml, which is not installed.\u001b[0m\n",
      "Successfully installed pip-22.0.4 setuptools-62.0.0 wheel-0.37.1\n",
      "Collecting spacy\n",
      "  Downloading spacy-3.2.4-cp39-cp39-macosx_10_9_x86_64.whl (6.3 MB)\n",
      "\u001b[2K     \u001b[90m━━━━━━━━━━━━━━━━━━━━━━━━━━━━━━━━━━━━━━━━\u001b[0m \u001b[32m6.3/6.3 MB\u001b[0m \u001b[31m5.3 MB/s\u001b[0m eta \u001b[36m0:00:00\u001b[0m00:01\u001b[0m00:01\u001b[0m\n",
      "\u001b[?25hCollecting wasabi<1.1.0,>=0.8.1\n",
      "  Downloading wasabi-0.9.1-py3-none-any.whl (26 kB)\n",
      "Collecting langcodes<4.0.0,>=3.2.0\n",
      "  Downloading langcodes-3.3.0-py3-none-any.whl (181 kB)\n",
      "\u001b[2K     \u001b[90m━━━━━━━━━━━━━━━━━━━━━━━━━━━━━━━━━━━━━━━\u001b[0m \u001b[32m181.6/181.6 KB\u001b[0m \u001b[31m3.6 MB/s\u001b[0m eta \u001b[36m0:00:00\u001b[0ma \u001b[36m0:00:01\u001b[0m\n",
      "\u001b[?25hRequirement already satisfied: requests<3.0.0,>=2.13.0 in /Users/mariebuesink/opt/anaconda3/lib/python3.9/site-packages (from spacy) (2.26.0)\n",
      "Collecting blis<0.8.0,>=0.4.0\n",
      "  Downloading blis-0.7.7-cp39-cp39-macosx_10_9_x86_64.whl (5.8 MB)\n",
      "\u001b[2K     \u001b[90m━━━━━━━━━━━━━━━━━━━━━━━━━━━━━━━━━━━━━━━━\u001b[0m \u001b[32m5.8/5.8 MB\u001b[0m \u001b[31m5.6 MB/s\u001b[0m eta \u001b[36m0:00:00\u001b[0m00:01\u001b[0m00:01\u001b[0mm\n",
      "\u001b[?25hRequirement already satisfied: tqdm<5.0.0,>=4.38.0 in /Users/mariebuesink/opt/anaconda3/lib/python3.9/site-packages (from spacy) (4.62.3)\n",
      "Collecting spacy-loggers<2.0.0,>=1.0.0\n",
      "  Downloading spacy_loggers-1.0.2-py3-none-any.whl (7.2 kB)\n",
      "Requirement already satisfied: jinja2 in /Users/mariebuesink/opt/anaconda3/lib/python3.9/site-packages (from spacy) (2.11.3)\n",
      "Collecting cymem<2.1.0,>=2.0.2\n",
      "  Downloading cymem-2.0.6-cp39-cp39-macosx_10_9_x86_64.whl (32 kB)\n",
      "Requirement already satisfied: numpy>=1.15.0 in /Users/mariebuesink/opt/anaconda3/lib/python3.9/site-packages (from spacy) (1.20.3)\n",
      "Requirement already satisfied: click<8.1.0 in /Users/mariebuesink/opt/anaconda3/lib/python3.9/site-packages (from spacy) (8.0.3)\n",
      "Collecting catalogue<2.1.0,>=2.0.6\n",
      "  Downloading catalogue-2.0.7-py3-none-any.whl (17 kB)\n",
      "Collecting pydantic!=1.8,!=1.8.1,<1.9.0,>=1.7.4\n",
      "  Downloading pydantic-1.8.2-cp39-cp39-macosx_10_9_x86_64.whl (2.7 MB)\n",
      "\u001b[2K     \u001b[90m━━━━━━━━━━━━━━━━━━━━━━━━━━━━━━━━━━━━━━━━\u001b[0m \u001b[32m2.7/2.7 MB\u001b[0m \u001b[31m5.2 MB/s\u001b[0m eta \u001b[36m0:00:00\u001b[0m00:01\u001b[0m00:01\u001b[0mm\n",
      "\u001b[?25hCollecting murmurhash<1.1.0,>=0.28.0\n",
      "  Downloading murmurhash-1.0.6-cp39-cp39-macosx_10_9_x86_64.whl (18 kB)\n",
      "Collecting srsly<3.0.0,>=2.4.1\n",
      "  Downloading srsly-2.4.2-cp39-cp39-macosx_10_9_x86_64.whl (452 kB)\n",
      "\u001b[2K     \u001b[90m━━━━━━━━━━━━━━━━━━━━━━━━━━━━━━━━━━━━━━━\u001b[0m \u001b[32m452.6/452.6 KB\u001b[0m \u001b[31m9.4 MB/s\u001b[0m eta \u001b[36m0:00:00\u001b[0m00:01\u001b[0m\n",
      "\u001b[?25hRequirement already satisfied: packaging>=20.0 in /Users/mariebuesink/opt/anaconda3/lib/python3.9/site-packages (from spacy) (21.0)\n",
      "Collecting spacy-legacy<3.1.0,>=3.0.8\n",
      "  Downloading spacy_legacy-3.0.9-py2.py3-none-any.whl (20 kB)\n",
      "Collecting typer<0.5.0,>=0.3.0\n",
      "  Downloading typer-0.4.1-py3-none-any.whl (27 kB)\n",
      "Collecting pathy>=0.3.5\n",
      "  Downloading pathy-0.6.1-py3-none-any.whl (42 kB)\n",
      "\u001b[2K     \u001b[90m━━━━━━━━━━━━━━━━━━━━━━━━━━━━━━━━━━━━━━━━\u001b[0m \u001b[32m42.8/42.8 KB\u001b[0m \u001b[31m1.7 MB/s\u001b[0m eta \u001b[36m0:00:00\u001b[0m\n",
      "\u001b[?25hCollecting thinc<8.1.0,>=8.0.12\n",
      "  Downloading thinc-8.0.15-cp39-cp39-macosx_10_9_x86_64.whl (639 kB)\n",
      "\u001b[2K     \u001b[90m━━━━━━━━━━━━━━━━━━━━━━━━━━━━━━━━━━━━━━━\u001b[0m \u001b[32m639.6/639.6 KB\u001b[0m \u001b[31m9.7 MB/s\u001b[0m eta \u001b[36m0:00:00\u001b[0ma \u001b[36m0:00:01\u001b[0m\n",
      "\u001b[?25hCollecting preshed<3.1.0,>=3.0.2\n",
      "  Downloading preshed-3.0.6-cp39-cp39-macosx_10_9_x86_64.whl (106 kB)\n",
      "\u001b[2K     \u001b[90m━━━━━━━━━━━━━━━━━━━━━━━━━━━━━━━━━━━━━━━\u001b[0m \u001b[32m106.8/106.8 KB\u001b[0m \u001b[31m5.5 MB/s\u001b[0m eta \u001b[36m0:00:00\u001b[0m\n",
      "\u001b[?25hRequirement already satisfied: setuptools in /Users/mariebuesink/opt/anaconda3/lib/python3.9/site-packages (from spacy) (62.0.0)\n",
      "Requirement already satisfied: pyparsing>=2.0.2 in /Users/mariebuesink/opt/anaconda3/lib/python3.9/site-packages (from packaging>=20.0->spacy) (3.0.4)\n",
      "Collecting smart-open<6.0.0,>=5.0.0\n",
      "  Downloading smart_open-5.2.1-py3-none-any.whl (58 kB)\n",
      "\u001b[2K     \u001b[90m━━━━━━━━━━━━━━━━━━━━━━━━━━━━━━━━━━━━━━━━\u001b[0m \u001b[32m58.6/58.6 KB\u001b[0m \u001b[31m2.9 MB/s\u001b[0m eta \u001b[36m0:00:00\u001b[0m\n",
      "\u001b[?25hRequirement already satisfied: typing-extensions>=3.7.4.3 in /Users/mariebuesink/opt/anaconda3/lib/python3.9/site-packages (from pydantic!=1.8,!=1.8.1,<1.9.0,>=1.7.4->spacy) (3.10.0.2)\n",
      "Requirement already satisfied: urllib3<1.27,>=1.21.1 in /Users/mariebuesink/opt/anaconda3/lib/python3.9/site-packages (from requests<3.0.0,>=2.13.0->spacy) (1.26.7)\n",
      "Requirement already satisfied: idna<4,>=2.5 in /Users/mariebuesink/opt/anaconda3/lib/python3.9/site-packages (from requests<3.0.0,>=2.13.0->spacy) (3.2)\n",
      "Requirement already satisfied: certifi>=2017.4.17 in /Users/mariebuesink/opt/anaconda3/lib/python3.9/site-packages (from requests<3.0.0,>=2.13.0->spacy) (2021.10.8)\n",
      "Requirement already satisfied: charset-normalizer~=2.0.0 in /Users/mariebuesink/opt/anaconda3/lib/python3.9/site-packages (from requests<3.0.0,>=2.13.0->spacy) (2.0.4)\n",
      "Requirement already satisfied: MarkupSafe>=0.23 in /Users/mariebuesink/opt/anaconda3/lib/python3.9/site-packages (from jinja2->spacy) (1.1.1)\n",
      "Installing collected packages: wasabi, murmurhash, cymem, typer, spacy-loggers, spacy-legacy, smart-open, pydantic, preshed, langcodes, catalogue, blis, srsly, pathy, thinc, spacy\n",
      "Successfully installed blis-0.7.7 catalogue-2.0.7 cymem-2.0.6 langcodes-3.3.0 murmurhash-1.0.6 pathy-0.6.1 preshed-3.0.6 pydantic-1.8.2 smart-open-5.2.1 spacy-3.2.4 spacy-legacy-3.0.9 spacy-loggers-1.0.2 srsly-2.4.2 thinc-8.0.15 typer-0.4.1 wasabi-0.9.1\n"
     ]
    }
   ],
   "source": [
    "!pip install -U pip setuptools wheel\n",
    "!pip install -U spacy"
   ]
  },
  {
   "cell_type": "code",
   "execution_count": 2,
   "id": "71ae468e",
   "metadata": {},
   "outputs": [
    {
     "name": "stdout",
     "output_type": "stream",
     "text": [
      "Collecting ja-core-news-trf==3.2.0\n",
      "  Using cached https://github.com/explosion/spacy-models/releases/download/ja_core_news_trf-3.2.0/ja_core_news_trf-3.2.0-py3-none-any.whl (337.9 MB)\n",
      "Requirement already satisfied: spacy<3.3.0,>=3.2.0 in /Users/mariebuesink/opt/anaconda3/lib/python3.9/site-packages (from ja-core-news-trf==3.2.0) (3.2.4)\n",
      "Requirement already satisfied: sudachipy>=0.4.9 in /Users/mariebuesink/opt/anaconda3/lib/python3.9/site-packages (from ja-core-news-trf==3.2.0) (0.6.3)\n",
      "Requirement already satisfied: sudachidict-core>=20200330 in /Users/mariebuesink/opt/anaconda3/lib/python3.9/site-packages (from ja-core-news-trf==3.2.0) (20211220)\n",
      "Requirement already satisfied: spacy-transformers<1.2.0,>=1.1.2 in /Users/mariebuesink/opt/anaconda3/lib/python3.9/site-packages (from ja-core-news-trf==3.2.0) (1.1.5)\n",
      "Requirement already satisfied: srsly<3.0.0,>=2.4.1 in /Users/mariebuesink/opt/anaconda3/lib/python3.9/site-packages (from spacy<3.3.0,>=3.2.0->ja-core-news-trf==3.2.0) (2.4.2)\n",
      "Requirement already satisfied: catalogue<2.1.0,>=2.0.6 in /Users/mariebuesink/opt/anaconda3/lib/python3.9/site-packages (from spacy<3.3.0,>=3.2.0->ja-core-news-trf==3.2.0) (2.0.7)\n",
      "Requirement already satisfied: blis<0.8.0,>=0.4.0 in /Users/mariebuesink/opt/anaconda3/lib/python3.9/site-packages (from spacy<3.3.0,>=3.2.0->ja-core-news-trf==3.2.0) (0.7.7)\n",
      "Requirement already satisfied: langcodes<4.0.0,>=3.2.0 in /Users/mariebuesink/opt/anaconda3/lib/python3.9/site-packages (from spacy<3.3.0,>=3.2.0->ja-core-news-trf==3.2.0) (3.3.0)\n",
      "Requirement already satisfied: thinc<8.1.0,>=8.0.12 in /Users/mariebuesink/opt/anaconda3/lib/python3.9/site-packages (from spacy<3.3.0,>=3.2.0->ja-core-news-trf==3.2.0) (8.0.15)\n",
      "Requirement already satisfied: cymem<2.1.0,>=2.0.2 in /Users/mariebuesink/opt/anaconda3/lib/python3.9/site-packages (from spacy<3.3.0,>=3.2.0->ja-core-news-trf==3.2.0) (2.0.6)\n",
      "Requirement already satisfied: jinja2 in /Users/mariebuesink/opt/anaconda3/lib/python3.9/site-packages (from spacy<3.3.0,>=3.2.0->ja-core-news-trf==3.2.0) (2.11.3)\n",
      "Requirement already satisfied: spacy-legacy<3.1.0,>=3.0.8 in /Users/mariebuesink/opt/anaconda3/lib/python3.9/site-packages (from spacy<3.3.0,>=3.2.0->ja-core-news-trf==3.2.0) (3.0.9)\n",
      "Requirement already satisfied: spacy-loggers<2.0.0,>=1.0.0 in /Users/mariebuesink/opt/anaconda3/lib/python3.9/site-packages (from spacy<3.3.0,>=3.2.0->ja-core-news-trf==3.2.0) (1.0.2)\n",
      "Requirement already satisfied: wasabi<1.1.0,>=0.8.1 in /Users/mariebuesink/opt/anaconda3/lib/python3.9/site-packages (from spacy<3.3.0,>=3.2.0->ja-core-news-trf==3.2.0) (0.9.1)\n",
      "Requirement already satisfied: pathy>=0.3.5 in /Users/mariebuesink/opt/anaconda3/lib/python3.9/site-packages (from spacy<3.3.0,>=3.2.0->ja-core-news-trf==3.2.0) (0.6.1)\n",
      "Requirement already satisfied: requests<3.0.0,>=2.13.0 in /Users/mariebuesink/opt/anaconda3/lib/python3.9/site-packages (from spacy<3.3.0,>=3.2.0->ja-core-news-trf==3.2.0) (2.26.0)\n",
      "Requirement already satisfied: packaging>=20.0 in /Users/mariebuesink/opt/anaconda3/lib/python3.9/site-packages (from spacy<3.3.0,>=3.2.0->ja-core-news-trf==3.2.0) (21.0)\n",
      "Requirement already satisfied: preshed<3.1.0,>=3.0.2 in /Users/mariebuesink/opt/anaconda3/lib/python3.9/site-packages (from spacy<3.3.0,>=3.2.0->ja-core-news-trf==3.2.0) (3.0.6)\n",
      "Requirement already satisfied: click<8.1.0 in /Users/mariebuesink/opt/anaconda3/lib/python3.9/site-packages (from spacy<3.3.0,>=3.2.0->ja-core-news-trf==3.2.0) (8.0.3)\n",
      "Requirement already satisfied: numpy>=1.15.0 in /Users/mariebuesink/opt/anaconda3/lib/python3.9/site-packages (from spacy<3.3.0,>=3.2.0->ja-core-news-trf==3.2.0) (1.20.3)\n",
      "Requirement already satisfied: typer<0.5.0,>=0.3.0 in /Users/mariebuesink/opt/anaconda3/lib/python3.9/site-packages (from spacy<3.3.0,>=3.2.0->ja-core-news-trf==3.2.0) (0.4.1)\n",
      "Requirement already satisfied: murmurhash<1.1.0,>=0.28.0 in /Users/mariebuesink/opt/anaconda3/lib/python3.9/site-packages (from spacy<3.3.0,>=3.2.0->ja-core-news-trf==3.2.0) (1.0.6)\n",
      "Requirement already satisfied: setuptools in /Users/mariebuesink/opt/anaconda3/lib/python3.9/site-packages (from spacy<3.3.0,>=3.2.0->ja-core-news-trf==3.2.0) (62.0.0)\n",
      "Requirement already satisfied: tqdm<5.0.0,>=4.38.0 in /Users/mariebuesink/opt/anaconda3/lib/python3.9/site-packages (from spacy<3.3.0,>=3.2.0->ja-core-news-trf==3.2.0) (4.62.3)\n",
      "Requirement already satisfied: pydantic!=1.8,!=1.8.1,<1.9.0,>=1.7.4 in /Users/mariebuesink/opt/anaconda3/lib/python3.9/site-packages (from spacy<3.3.0,>=3.2.0->ja-core-news-trf==3.2.0) (1.8.2)\n",
      "Requirement already satisfied: spacy-alignments<1.0.0,>=0.7.2 in /Users/mariebuesink/opt/anaconda3/lib/python3.9/site-packages (from spacy-transformers<1.2.0,>=1.1.2->ja-core-news-trf==3.2.0) (0.8.4)\n",
      "Requirement already satisfied: torch>=1.6.0 in /Users/mariebuesink/opt/anaconda3/lib/python3.9/site-packages (from spacy-transformers<1.2.0,>=1.1.2->ja-core-news-trf==3.2.0) (1.11.0)\n",
      "Requirement already satisfied: transformers<4.18.0,>=3.4.0 in /Users/mariebuesink/opt/anaconda3/lib/python3.9/site-packages (from spacy-transformers<1.2.0,>=1.1.2->ja-core-news-trf==3.2.0) (4.17.0)\n",
      "Requirement already satisfied: pyparsing>=2.0.2 in /Users/mariebuesink/opt/anaconda3/lib/python3.9/site-packages (from packaging>=20.0->spacy<3.3.0,>=3.2.0->ja-core-news-trf==3.2.0) (3.0.4)\n",
      "Requirement already satisfied: smart-open<6.0.0,>=5.0.0 in /Users/mariebuesink/opt/anaconda3/lib/python3.9/site-packages (from pathy>=0.3.5->spacy<3.3.0,>=3.2.0->ja-core-news-trf==3.2.0) (5.2.1)\n",
      "Requirement already satisfied: typing-extensions>=3.7.4.3 in /Users/mariebuesink/opt/anaconda3/lib/python3.9/site-packages (from pydantic!=1.8,!=1.8.1,<1.9.0,>=1.7.4->spacy<3.3.0,>=3.2.0->ja-core-news-trf==3.2.0) (3.10.0.2)\n",
      "Requirement already satisfied: idna<4,>=2.5 in /Users/mariebuesink/opt/anaconda3/lib/python3.9/site-packages (from requests<3.0.0,>=2.13.0->spacy<3.3.0,>=3.2.0->ja-core-news-trf==3.2.0) (3.2)\n",
      "Requirement already satisfied: charset-normalizer~=2.0.0 in /Users/mariebuesink/opt/anaconda3/lib/python3.9/site-packages (from requests<3.0.0,>=2.13.0->spacy<3.3.0,>=3.2.0->ja-core-news-trf==3.2.0) (2.0.4)\n",
      "Requirement already satisfied: certifi>=2017.4.17 in /Users/mariebuesink/opt/anaconda3/lib/python3.9/site-packages (from requests<3.0.0,>=2.13.0->spacy<3.3.0,>=3.2.0->ja-core-news-trf==3.2.0) (2021.10.8)\n",
      "Requirement already satisfied: urllib3<1.27,>=1.21.1 in /Users/mariebuesink/opt/anaconda3/lib/python3.9/site-packages (from requests<3.0.0,>=2.13.0->spacy<3.3.0,>=3.2.0->ja-core-news-trf==3.2.0) (1.26.7)\n",
      "Requirement already satisfied: pyyaml>=5.1 in /Users/mariebuesink/opt/anaconda3/lib/python3.9/site-packages (from transformers<4.18.0,>=3.4.0->spacy-transformers<1.2.0,>=1.1.2->ja-core-news-trf==3.2.0) (6.0)\n",
      "Requirement already satisfied: sacremoses in /Users/mariebuesink/opt/anaconda3/lib/python3.9/site-packages (from transformers<4.18.0,>=3.4.0->spacy-transformers<1.2.0,>=1.1.2->ja-core-news-trf==3.2.0) (0.0.49)\n",
      "Requirement already satisfied: filelock in /Users/mariebuesink/opt/anaconda3/lib/python3.9/site-packages (from transformers<4.18.0,>=3.4.0->spacy-transformers<1.2.0,>=1.1.2->ja-core-news-trf==3.2.0) (3.3.1)\n",
      "Requirement already satisfied: huggingface-hub<1.0,>=0.1.0 in /Users/mariebuesink/opt/anaconda3/lib/python3.9/site-packages (from transformers<4.18.0,>=3.4.0->spacy-transformers<1.2.0,>=1.1.2->ja-core-news-trf==3.2.0) (0.4.0)\n",
      "Requirement already satisfied: regex!=2019.12.17 in /Users/mariebuesink/opt/anaconda3/lib/python3.9/site-packages (from transformers<4.18.0,>=3.4.0->spacy-transformers<1.2.0,>=1.1.2->ja-core-news-trf==3.2.0) (2021.8.3)\n",
      "Requirement already satisfied: tokenizers!=0.11.3,>=0.11.1 in /Users/mariebuesink/opt/anaconda3/lib/python3.9/site-packages (from transformers<4.18.0,>=3.4.0->spacy-transformers<1.2.0,>=1.1.2->ja-core-news-trf==3.2.0) (0.11.6)\n",
      "Requirement already satisfied: MarkupSafe>=0.23 in /Users/mariebuesink/opt/anaconda3/lib/python3.9/site-packages (from jinja2->spacy<3.3.0,>=3.2.0->ja-core-news-trf==3.2.0) (1.1.1)\n",
      "Requirement already satisfied: joblib in /Users/mariebuesink/opt/anaconda3/lib/python3.9/site-packages (from sacremoses->transformers<4.18.0,>=3.4.0->spacy-transformers<1.2.0,>=1.1.2->ja-core-news-trf==3.2.0) (1.1.0)\n",
      "Requirement already satisfied: six in /Users/mariebuesink/opt/anaconda3/lib/python3.9/site-packages (from sacremoses->transformers<4.18.0,>=3.4.0->spacy-transformers<1.2.0,>=1.1.2->ja-core-news-trf==3.2.0) (1.16.0)\n"
     ]
    },
    {
     "name": "stdout",
     "output_type": "stream",
     "text": [
      "\u001b[38;5;2m✔ Download and installation successful\u001b[0m\n",
      "You can now load the package via spacy.load('ja_core_news_trf')\n",
      "Collecting ja-core-news-sm==3.2.0\n",
      "  Using cached https://github.com/explosion/spacy-models/releases/download/ja_core_news_sm-3.2.0/ja_core_news_sm-3.2.0-py3-none-any.whl (13.0 MB)\n",
      "Requirement already satisfied: spacy<3.3.0,>=3.2.0 in /Users/mariebuesink/opt/anaconda3/lib/python3.9/site-packages (from ja-core-news-sm==3.2.0) (3.2.4)\n",
      "Requirement already satisfied: sudachidict-core>=20200330 in /Users/mariebuesink/opt/anaconda3/lib/python3.9/site-packages (from ja-core-news-sm==3.2.0) (20211220)\n",
      "Requirement already satisfied: sudachipy>=0.4.9 in /Users/mariebuesink/opt/anaconda3/lib/python3.9/site-packages (from ja-core-news-sm==3.2.0) (0.6.3)\n",
      "Requirement already satisfied: tqdm<5.0.0,>=4.38.0 in /Users/mariebuesink/opt/anaconda3/lib/python3.9/site-packages (from spacy<3.3.0,>=3.2.0->ja-core-news-sm==3.2.0) (4.62.3)\n",
      "Requirement already satisfied: typer<0.5.0,>=0.3.0 in /Users/mariebuesink/opt/anaconda3/lib/python3.9/site-packages (from spacy<3.3.0,>=3.2.0->ja-core-news-sm==3.2.0) (0.4.1)\n",
      "Requirement already satisfied: setuptools in /Users/mariebuesink/opt/anaconda3/lib/python3.9/site-packages (from spacy<3.3.0,>=3.2.0->ja-core-news-sm==3.2.0) (62.0.0)\n",
      "Requirement already satisfied: blis<0.8.0,>=0.4.0 in /Users/mariebuesink/opt/anaconda3/lib/python3.9/site-packages (from spacy<3.3.0,>=3.2.0->ja-core-news-sm==3.2.0) (0.7.7)\n",
      "Requirement already satisfied: packaging>=20.0 in /Users/mariebuesink/opt/anaconda3/lib/python3.9/site-packages (from spacy<3.3.0,>=3.2.0->ja-core-news-sm==3.2.0) (21.0)\n",
      "Requirement already satisfied: wasabi<1.1.0,>=0.8.1 in /Users/mariebuesink/opt/anaconda3/lib/python3.9/site-packages (from spacy<3.3.0,>=3.2.0->ja-core-news-sm==3.2.0) (0.9.1)\n",
      "Requirement already satisfied: spacy-legacy<3.1.0,>=3.0.8 in /Users/mariebuesink/opt/anaconda3/lib/python3.9/site-packages (from spacy<3.3.0,>=3.2.0->ja-core-news-sm==3.2.0) (3.0.9)\n",
      "Requirement already satisfied: catalogue<2.1.0,>=2.0.6 in /Users/mariebuesink/opt/anaconda3/lib/python3.9/site-packages (from spacy<3.3.0,>=3.2.0->ja-core-news-sm==3.2.0) (2.0.7)\n",
      "Requirement already satisfied: jinja2 in /Users/mariebuesink/opt/anaconda3/lib/python3.9/site-packages (from spacy<3.3.0,>=3.2.0->ja-core-news-sm==3.2.0) (2.11.3)\n",
      "Requirement already satisfied: langcodes<4.0.0,>=3.2.0 in /Users/mariebuesink/opt/anaconda3/lib/python3.9/site-packages (from spacy<3.3.0,>=3.2.0->ja-core-news-sm==3.2.0) (3.3.0)\n",
      "Requirement already satisfied: click<8.1.0 in /Users/mariebuesink/opt/anaconda3/lib/python3.9/site-packages (from spacy<3.3.0,>=3.2.0->ja-core-news-sm==3.2.0) (8.0.3)\n",
      "Requirement already satisfied: srsly<3.0.0,>=2.4.1 in /Users/mariebuesink/opt/anaconda3/lib/python3.9/site-packages (from spacy<3.3.0,>=3.2.0->ja-core-news-sm==3.2.0) (2.4.2)\n",
      "Requirement already satisfied: numpy>=1.15.0 in /Users/mariebuesink/opt/anaconda3/lib/python3.9/site-packages (from spacy<3.3.0,>=3.2.0->ja-core-news-sm==3.2.0) (1.20.3)\n",
      "Requirement already satisfied: cymem<2.1.0,>=2.0.2 in /Users/mariebuesink/opt/anaconda3/lib/python3.9/site-packages (from spacy<3.3.0,>=3.2.0->ja-core-news-sm==3.2.0) (2.0.6)\n",
      "Requirement already satisfied: spacy-loggers<2.0.0,>=1.0.0 in /Users/mariebuesink/opt/anaconda3/lib/python3.9/site-packages (from spacy<3.3.0,>=3.2.0->ja-core-news-sm==3.2.0) (1.0.2)\n",
      "Requirement already satisfied: murmurhash<1.1.0,>=0.28.0 in /Users/mariebuesink/opt/anaconda3/lib/python3.9/site-packages (from spacy<3.3.0,>=3.2.0->ja-core-news-sm==3.2.0) (1.0.6)\n",
      "Requirement already satisfied: preshed<3.1.0,>=3.0.2 in /Users/mariebuesink/opt/anaconda3/lib/python3.9/site-packages (from spacy<3.3.0,>=3.2.0->ja-core-news-sm==3.2.0) (3.0.6)\n",
      "Requirement already satisfied: pathy>=0.3.5 in /Users/mariebuesink/opt/anaconda3/lib/python3.9/site-packages (from spacy<3.3.0,>=3.2.0->ja-core-news-sm==3.2.0) (0.6.1)\n",
      "Requirement already satisfied: requests<3.0.0,>=2.13.0 in /Users/mariebuesink/opt/anaconda3/lib/python3.9/site-packages (from spacy<3.3.0,>=3.2.0->ja-core-news-sm==3.2.0) (2.26.0)\n",
      "Requirement already satisfied: thinc<8.1.0,>=8.0.12 in /Users/mariebuesink/opt/anaconda3/lib/python3.9/site-packages (from spacy<3.3.0,>=3.2.0->ja-core-news-sm==3.2.0) (8.0.15)\n",
      "Requirement already satisfied: pydantic!=1.8,!=1.8.1,<1.9.0,>=1.7.4 in /Users/mariebuesink/opt/anaconda3/lib/python3.9/site-packages (from spacy<3.3.0,>=3.2.0->ja-core-news-sm==3.2.0) (1.8.2)\n",
      "Requirement already satisfied: pyparsing>=2.0.2 in /Users/mariebuesink/opt/anaconda3/lib/python3.9/site-packages (from packaging>=20.0->spacy<3.3.0,>=3.2.0->ja-core-news-sm==3.2.0) (3.0.4)\n",
      "Requirement already satisfied: smart-open<6.0.0,>=5.0.0 in /Users/mariebuesink/opt/anaconda3/lib/python3.9/site-packages (from pathy>=0.3.5->spacy<3.3.0,>=3.2.0->ja-core-news-sm==3.2.0) (5.2.1)\n",
      "Requirement already satisfied: typing-extensions>=3.7.4.3 in /Users/mariebuesink/opt/anaconda3/lib/python3.9/site-packages (from pydantic!=1.8,!=1.8.1,<1.9.0,>=1.7.4->spacy<3.3.0,>=3.2.0->ja-core-news-sm==3.2.0) (3.10.0.2)\n",
      "Requirement already satisfied: idna<4,>=2.5 in /Users/mariebuesink/opt/anaconda3/lib/python3.9/site-packages (from requests<3.0.0,>=2.13.0->spacy<3.3.0,>=3.2.0->ja-core-news-sm==3.2.0) (3.2)\n",
      "Requirement already satisfied: charset-normalizer~=2.0.0 in /Users/mariebuesink/opt/anaconda3/lib/python3.9/site-packages (from requests<3.0.0,>=2.13.0->spacy<3.3.0,>=3.2.0->ja-core-news-sm==3.2.0) (2.0.4)\n",
      "Requirement already satisfied: urllib3<1.27,>=1.21.1 in /Users/mariebuesink/opt/anaconda3/lib/python3.9/site-packages (from requests<3.0.0,>=2.13.0->spacy<3.3.0,>=3.2.0->ja-core-news-sm==3.2.0) (1.26.7)\n",
      "Requirement already satisfied: certifi>=2017.4.17 in /Users/mariebuesink/opt/anaconda3/lib/python3.9/site-packages (from requests<3.0.0,>=2.13.0->spacy<3.3.0,>=3.2.0->ja-core-news-sm==3.2.0) (2021.10.8)\n",
      "Requirement already satisfied: MarkupSafe>=0.23 in /Users/mariebuesink/opt/anaconda3/lib/python3.9/site-packages (from jinja2->spacy<3.3.0,>=3.2.0->ja-core-news-sm==3.2.0) (1.1.1)\n",
      "\u001b[38;5;2m✔ Download and installation successful\u001b[0m\n",
      "You can now load the package via spacy.load('ja_core_news_sm')\n",
      "Collecting ja-core-news-md==3.2.0\n",
      "  Downloading https://github.com/explosion/spacy-models/releases/download/ja_core_news_md-3.2.0/ja_core_news_md-3.2.0-py3-none-any.whl (43.0 MB)\n",
      "\u001b[2K     \u001b[90m━━━━━━━━━━━━━━━━━━━━━━━━━━━━━━━━━━━━━━━━\u001b[0m \u001b[32m43.0/43.0 MB\u001b[0m \u001b[31m4.6 MB/s\u001b[0m eta \u001b[36m0:00:00\u001b[0m00:01\u001b[0m00:01\u001b[0m\n",
      "\u001b[?25hRequirement already satisfied: sudachipy>=0.4.9 in /Users/mariebuesink/opt/anaconda3/lib/python3.9/site-packages (from ja-core-news-md==3.2.0) (0.6.3)\n",
      "Requirement already satisfied: spacy<3.3.0,>=3.2.0 in /Users/mariebuesink/opt/anaconda3/lib/python3.9/site-packages (from ja-core-news-md==3.2.0) (3.2.4)\n",
      "Requirement already satisfied: sudachidict-core>=20200330 in /Users/mariebuesink/opt/anaconda3/lib/python3.9/site-packages (from ja-core-news-md==3.2.0) (20211220)\n",
      "Requirement already satisfied: preshed<3.1.0,>=3.0.2 in /Users/mariebuesink/opt/anaconda3/lib/python3.9/site-packages (from spacy<3.3.0,>=3.2.0->ja-core-news-md==3.2.0) (3.0.6)\n",
      "Requirement already satisfied: setuptools in /Users/mariebuesink/opt/anaconda3/lib/python3.9/site-packages (from spacy<3.3.0,>=3.2.0->ja-core-news-md==3.2.0) (62.0.0)\n",
      "Requirement already satisfied: packaging>=20.0 in /Users/mariebuesink/opt/anaconda3/lib/python3.9/site-packages (from spacy<3.3.0,>=3.2.0->ja-core-news-md==3.2.0) (21.0)\n",
      "Requirement already satisfied: tqdm<5.0.0,>=4.38.0 in /Users/mariebuesink/opt/anaconda3/lib/python3.9/site-packages (from spacy<3.3.0,>=3.2.0->ja-core-news-md==3.2.0) (4.62.3)\n",
      "Requirement already satisfied: spacy-loggers<2.0.0,>=1.0.0 in /Users/mariebuesink/opt/anaconda3/lib/python3.9/site-packages (from spacy<3.3.0,>=3.2.0->ja-core-news-md==3.2.0) (1.0.2)\n",
      "Requirement already satisfied: thinc<8.1.0,>=8.0.12 in /Users/mariebuesink/opt/anaconda3/lib/python3.9/site-packages (from spacy<3.3.0,>=3.2.0->ja-core-news-md==3.2.0) (8.0.15)\n",
      "Requirement already satisfied: catalogue<2.1.0,>=2.0.6 in /Users/mariebuesink/opt/anaconda3/lib/python3.9/site-packages (from spacy<3.3.0,>=3.2.0->ja-core-news-md==3.2.0) (2.0.7)\n",
      "Requirement already satisfied: click<8.1.0 in /Users/mariebuesink/opt/anaconda3/lib/python3.9/site-packages (from spacy<3.3.0,>=3.2.0->ja-core-news-md==3.2.0) (8.0.3)\n",
      "Requirement already satisfied: pydantic!=1.8,!=1.8.1,<1.9.0,>=1.7.4 in /Users/mariebuesink/opt/anaconda3/lib/python3.9/site-packages (from spacy<3.3.0,>=3.2.0->ja-core-news-md==3.2.0) (1.8.2)\n",
      "Requirement already satisfied: blis<0.8.0,>=0.4.0 in /Users/mariebuesink/opt/anaconda3/lib/python3.9/site-packages (from spacy<3.3.0,>=3.2.0->ja-core-news-md==3.2.0) (0.7.7)\n",
      "Requirement already satisfied: cymem<2.1.0,>=2.0.2 in /Users/mariebuesink/opt/anaconda3/lib/python3.9/site-packages (from spacy<3.3.0,>=3.2.0->ja-core-news-md==3.2.0) (2.0.6)\n",
      "Requirement already satisfied: requests<3.0.0,>=2.13.0 in /Users/mariebuesink/opt/anaconda3/lib/python3.9/site-packages (from spacy<3.3.0,>=3.2.0->ja-core-news-md==3.2.0) (2.26.0)\n",
      "Requirement already satisfied: srsly<3.0.0,>=2.4.1 in /Users/mariebuesink/opt/anaconda3/lib/python3.9/site-packages (from spacy<3.3.0,>=3.2.0->ja-core-news-md==3.2.0) (2.4.2)\n",
      "Requirement already satisfied: wasabi<1.1.0,>=0.8.1 in /Users/mariebuesink/opt/anaconda3/lib/python3.9/site-packages (from spacy<3.3.0,>=3.2.0->ja-core-news-md==3.2.0) (0.9.1)\n",
      "Requirement already satisfied: typer<0.5.0,>=0.3.0 in /Users/mariebuesink/opt/anaconda3/lib/python3.9/site-packages (from spacy<3.3.0,>=3.2.0->ja-core-news-md==3.2.0) (0.4.1)\n",
      "Requirement already satisfied: murmurhash<1.1.0,>=0.28.0 in /Users/mariebuesink/opt/anaconda3/lib/python3.9/site-packages (from spacy<3.3.0,>=3.2.0->ja-core-news-md==3.2.0) (1.0.6)\n",
      "Requirement already satisfied: jinja2 in /Users/mariebuesink/opt/anaconda3/lib/python3.9/site-packages (from spacy<3.3.0,>=3.2.0->ja-core-news-md==3.2.0) (2.11.3)\n",
      "Requirement already satisfied: pathy>=0.3.5 in /Users/mariebuesink/opt/anaconda3/lib/python3.9/site-packages (from spacy<3.3.0,>=3.2.0->ja-core-news-md==3.2.0) (0.6.1)\n",
      "Requirement already satisfied: numpy>=1.15.0 in /Users/mariebuesink/opt/anaconda3/lib/python3.9/site-packages (from spacy<3.3.0,>=3.2.0->ja-core-news-md==3.2.0) (1.20.3)\n",
      "Requirement already satisfied: spacy-legacy<3.1.0,>=3.0.8 in /Users/mariebuesink/opt/anaconda3/lib/python3.9/site-packages (from spacy<3.3.0,>=3.2.0->ja-core-news-md==3.2.0) (3.0.9)\n",
      "Requirement already satisfied: langcodes<4.0.0,>=3.2.0 in /Users/mariebuesink/opt/anaconda3/lib/python3.9/site-packages (from spacy<3.3.0,>=3.2.0->ja-core-news-md==3.2.0) (3.3.0)\n",
      "Requirement already satisfied: pyparsing>=2.0.2 in /Users/mariebuesink/opt/anaconda3/lib/python3.9/site-packages (from packaging>=20.0->spacy<3.3.0,>=3.2.0->ja-core-news-md==3.2.0) (3.0.4)\n"
     ]
    },
    {
     "name": "stdout",
     "output_type": "stream",
     "text": [
      "Requirement already satisfied: smart-open<6.0.0,>=5.0.0 in /Users/mariebuesink/opt/anaconda3/lib/python3.9/site-packages (from pathy>=0.3.5->spacy<3.3.0,>=3.2.0->ja-core-news-md==3.2.0) (5.2.1)\n",
      "Requirement already satisfied: typing-extensions>=3.7.4.3 in /Users/mariebuesink/opt/anaconda3/lib/python3.9/site-packages (from pydantic!=1.8,!=1.8.1,<1.9.0,>=1.7.4->spacy<3.3.0,>=3.2.0->ja-core-news-md==3.2.0) (3.10.0.2)\n",
      "Requirement already satisfied: certifi>=2017.4.17 in /Users/mariebuesink/opt/anaconda3/lib/python3.9/site-packages (from requests<3.0.0,>=2.13.0->spacy<3.3.0,>=3.2.0->ja-core-news-md==3.2.0) (2021.10.8)\n",
      "Requirement already satisfied: idna<4,>=2.5 in /Users/mariebuesink/opt/anaconda3/lib/python3.9/site-packages (from requests<3.0.0,>=2.13.0->spacy<3.3.0,>=3.2.0->ja-core-news-md==3.2.0) (3.2)\n",
      "Requirement already satisfied: charset-normalizer~=2.0.0 in /Users/mariebuesink/opt/anaconda3/lib/python3.9/site-packages (from requests<3.0.0,>=2.13.0->spacy<3.3.0,>=3.2.0->ja-core-news-md==3.2.0) (2.0.4)\n",
      "Requirement already satisfied: urllib3<1.27,>=1.21.1 in /Users/mariebuesink/opt/anaconda3/lib/python3.9/site-packages (from requests<3.0.0,>=2.13.0->spacy<3.3.0,>=3.2.0->ja-core-news-md==3.2.0) (1.26.7)\n",
      "Requirement already satisfied: MarkupSafe>=0.23 in /Users/mariebuesink/opt/anaconda3/lib/python3.9/site-packages (from jinja2->spacy<3.3.0,>=3.2.0->ja-core-news-md==3.2.0) (1.1.1)\n",
      "Installing collected packages: ja-core-news-md\n",
      "Successfully installed ja-core-news-md-3.2.0\n",
      "\u001b[38;5;2m✔ Download and installation successful\u001b[0m\n",
      "You can now load the package via spacy.load('ja_core_news_md')\n",
      "Collecting ja-core-news-lg==3.2.0\n",
      "  Downloading https://github.com/explosion/spacy-models/releases/download/ja_core_news_lg-3.2.0/ja_core_news_lg-3.2.0-py3-none-any.whl (556.2 MB)\n",
      "\u001b[2K     \u001b[91m━━━━━━\u001b[0m\u001b[90m╺\u001b[0m\u001b[90m━━━━━━━━━━━━━━━━━━━━━━━━━━━━━━━━\u001b[0m \u001b[32m92.1/556.2 MB\u001b[0m \u001b[31m10.1 MB/s\u001b[0m eta \u001b[36m0:00:47\u001b[0m\n",
      "\u001b[?25h\u001b[31mERROR: Wheel 'ja-core-news-lg' located at /private/var/folders/hb/v9_vkgfd41j65wtt0vnrlt2h0000gn/T/pip-unpack-9_1kazf2/ja_core_news_lg-3.2.0-py3-none-any.whl is invalid.\u001b[0m\u001b[31m\n",
      "\u001b[0m"
     ]
    }
   ],
   "source": [
    "!python -m spacy download ja_core_news_trf\n",
    "!python -m spacy download ja_core_news_sm\n",
    "!python -m spacy download ja_core_news_md\n",
    "!python -m spacy download ja_core_news_lg"
   ]
  },
  {
   "cell_type": "markdown",
   "id": "607133c3",
   "metadata": {},
   "source": [
    "# Organise the tweets\n",
    "\n",
    "Read all the downloaded tweets from the TSV files."
   ]
  },
  {
   "cell_type": "code",
   "execution_count": 4,
   "id": "4e6404e0",
   "metadata": {},
   "outputs": [],
   "source": [
    "path = os.path.join( 'HanaKimura' , 'tweets_hanakimura.tsv' )\n",
    "df1 = pd.read_csv( path  , encoding = 'utf-8' , sep = '\\t' )\n",
    "\n",
    "path = os.path.join( 'HanaKimura' , 'tweets_hanakimura_japanese.tsv' )\n",
    "df2 = pd.read_csv( path  , encoding = 'utf-8' , sep = '\\t' )\n",
    "\n",
    "path = os.path.join( 'HanaKimura' , 'tweets_kimurahana.tsv' )\n",
    "df3 = pd.read_csv( path  , encoding = 'utf-8' , sep = '\\t' )"
   ]
  },
  {
   "cell_type": "markdown",
   "id": "d3de72df",
   "metadata": {},
   "source": [
    "Change the 'created_at' date into a 'dateframe'"
   ]
  },
  {
   "cell_type": "code",
   "execution_count": 5,
   "id": "808c8b73",
   "metadata": {},
   "outputs": [],
   "source": [
    "df = pd.concat([df1, df2, df3])\n",
    "df['created_at']  = pd.to_datetime( df['created_at'] ).dt.tz_localize(None)"
   ]
  },
  {
   "cell_type": "markdown",
   "id": "7cbd3af9",
   "metadata": {},
   "source": [
    "The date of Hana Kimura's death"
   ]
  },
  {
   "cell_type": "code",
   "execution_count": 6,
   "id": "8987cb44",
   "metadata": {},
   "outputs": [],
   "source": [
    "date = pd.to_datetime( '2020-05-23' )"
   ]
  },
  {
   "cell_type": "code",
   "execution_count": 7,
   "id": "b3007bf2",
   "metadata": {},
   "outputs": [],
   "source": [
    "dir = 'Corpus'\n",
    "\n",
    "if not os.path.exists(dir):\n",
    "    os.mkdir(dir)\n",
    "\n",
    "path = os.path.join(dir, 'tweets_before_japanese.txt')\n",
    "out_before_japanese = open(  path, 'w' , encoding = 'utf-8')\n",
    "\n",
    "path = os.path.join(dir, 'tweets_before_english.txt' )\n",
    "out_before_english = open( path , 'w' , encoding = 'utf-8')\n",
    "\n",
    "path = os.path.join(dir, 'tweets_after_japanese.txt' )\n",
    "out_after_japanese = open( path , 'w' , encoding = 'utf-8')\n",
    "\n",
    "path = os.path.join(dir, 'tweets_after__english.txt' )\n",
    "out_after_english = open( path , 'w' , encoding = 'utf-8')\n",
    "\n",
    "\n",
    "for i,row in df.iterrows():\n",
    "    if not re.search( r'^RT' , row['text'] ):\n",
    "        if row['created_at'] < date:\n",
    "            if row['lang'] == 'ja' :\n",
    "                out_before_japanese.write( f\"{row['text']}\\n\" )\n",
    "            else:\n",
    "                out_before_english.write( f\"{row['text']}\\n\" )\n",
    "        else:\n",
    "            if row['lang'] == 'ja':\n",
    "                out_after_japanese.write( f\"{row['text']}\\n\" )\n",
    "            else:\n",
    "                out_after_english.write( f\"{row['text']}\\n\" )\n",
    "            \n",
    "        \n",
    "out_before_japanese.close()\n",
    "out_before_english.close()\n",
    "out_after_japanese.close()\n",
    "out_after_english.close()"
   ]
  },
  {
   "cell_type": "markdown",
   "id": "54f3b500",
   "metadata": {},
   "source": [
    "## Create a list of all the files in the corpus"
   ]
  },
  {
   "cell_type": "code",
   "execution_count": 8,
   "id": "408225eb",
   "metadata": {},
   "outputs": [],
   "source": [
    "texts = []\n",
    "dir = 'Corpus'\n",
    "\n",
    "for file in os.listdir(dir):\n",
    "    if re.search( r'txt$' , file ):\n",
    "        path = os.path.join( dir , file )\n",
    "        texts.append(path)"
   ]
  },
  {
   "cell_type": "markdown",
   "id": "f23214a0",
   "metadata": {},
   "source": [
    "## create text analysis functions"
   ]
  },
  {
   "cell_type": "code",
   "execution_count": 14,
   "id": "48dd9af6",
   "metadata": {},
   "outputs": [],
   "source": [
    "def get_all_hashtags(full_text):\n",
    "    freq = dict()\n",
    "    hash_tags = re.findall( r'#\\w+\\b' , full_text )\n",
    "    for tag in hash_tags:\n",
    "        freq[tag] = freq.get(tag,0) + 1\n",
    "    return freq\n",
    "\n",
    "def merge_dictionaries(x,y):\n",
    "    z = x.copy()   \n",
    "    z.update(y)   \n",
    "    return z\n",
    "\n",
    "\n",
    "def get_title(path):\n",
    "    title = os.path.basename(path)\n",
    "    if re.search( r'txt$' , title ):\n",
    "        # Remove txt extension\n",
    "        title = title[ :title.index('.txt') ]\n",
    "        # remove commas and dots\n",
    "        title = re.sub( r'[.,]' , '' , title )\n",
    "    return title"
   ]
  },
  {
   "cell_type": "markdown",
   "id": "f8466688",
   "metadata": {},
   "source": [
    "## create data for all  the texts in the corpus"
   ]
  },
  {
   "cell_type": "code",
   "execution_count": 12,
   "id": "33d47b20",
   "metadata": {},
   "outputs": [
    {
     "name": "stdout",
     "output_type": "stream",
     "text": [
      "['#誹謗中傷', '#木村花', '#スターダム', '#文春オンライン', '#フジテレビ', '#RIPHanaKimura', '#週刊文春', '#スクープ速報', '#TCS', '#テラスハウス', '#自殺', '#stardom', '#テラハ', '#SNS']\n"
     ]
    }
   ],
   "source": [
    "all_tags = dict()\n",
    "\n",
    "for text in texts: \n",
    "    f = open( text , encoding = 'utf-8')\n",
    "    full_text = f.read()\n",
    "    hash_tags = get_all_hashtags(full_text)\n",
    "    all_tags = merge_dictionaries(all_tags,hash_tags)\n",
    "\n",
    "most_frequent = []\n",
    "for tag in sortedByValue( all_tags , ascending = False):\n",
    "    if all_tags[tag] > 200:\n",
    "        most_frequent.append(tag)\n",
    "        \n",
    "print(most_frequent)"
   ]
  },
  {
   "cell_type": "code",
   "execution_count": 13,
   "id": "fe796f3c",
   "metadata": {},
   "outputs": [
    {
     "name": "stdout",
     "output_type": "stream",
     "text": [
      "Analysing Corpus/tweets_before_english.txt ...\n",
      "Analysing Corpus/tweets_after__english.txt ...\n",
      "Analysing Corpus/tweets_after_japanese.txt ...\n",
      "Analysing Corpus/tweets_before_japanese.txt ...\n",
      "Done!\n"
     ]
    }
   ],
   "source": [
    "out = open( 'data.csv' , 'w' , encoding = 'utf-8' )\n",
    "\n",
    "out.write('title')\n",
    "for t in most_frequent:\n",
    "    out.write( f',{t}' )\n",
    "out.write('\\n')\n",
    "\n",
    "for text in texts:\n",
    "    \n",
    "    data = dict()\n",
    "    print( f'Analysing {text} ...')\n",
    "    \n",
    "    ## Get the title, based on the filename\n",
    "    title = get_title( text )\n",
    "    \n",
    "    ## read the full text\n",
    "    fh = open( text, encoding = 'utf-8')\n",
    "    full_text = fh.read()\n",
    "    \n",
    "    hash_tags = get_all_hashtags(full_text)\n",
    "    \n",
    "    out.write( f'{title}')\n",
    "    for t in most_frequent:\n",
    "        out.write( f',{hash_tags.get(t,0)}' )\n",
    "    out.write('\\n')\n",
    "    \n",
    "out.close()\n",
    "print('Done!')"
   ]
  },
  {
   "cell_type": "code",
   "execution_count": 23,
   "id": "a043f7dc",
   "metadata": {},
   "outputs": [],
   "source": [
    "import pandas as pd\n",
    "\n",
    "df = pd.read_csv('data.csv')"
   ]
  },
  {
   "cell_type": "code",
   "execution_count": 24,
   "id": "52715e0a",
   "metadata": {},
   "outputs": [
    {
     "data": {
      "text/html": [
       "<div>\n",
       "<style scoped>\n",
       "    .dataframe tbody tr th:only-of-type {\n",
       "        vertical-align: middle;\n",
       "    }\n",
       "\n",
       "    .dataframe tbody tr th {\n",
       "        vertical-align: top;\n",
       "    }\n",
       "\n",
       "    .dataframe thead th {\n",
       "        text-align: right;\n",
       "    }\n",
       "</style>\n",
       "<table border=\"1\" class=\"dataframe\">\n",
       "  <thead>\n",
       "    <tr style=\"text-align: right;\">\n",
       "      <th></th>\n",
       "      <th>title</th>\n",
       "      <th>#誹謗中傷</th>\n",
       "      <th>#木村花</th>\n",
       "      <th>#スターダム</th>\n",
       "      <th>#文春オンライン</th>\n",
       "      <th>#フジテレビ</th>\n",
       "      <th>#RIPHanaKimura</th>\n",
       "      <th>#週刊文春</th>\n",
       "      <th>#スクープ速報</th>\n",
       "      <th>#TCS</th>\n",
       "      <th>#テラスハウス</th>\n",
       "      <th>#自殺</th>\n",
       "      <th>#stardom</th>\n",
       "      <th>#テラハ</th>\n",
       "      <th>#SNS</th>\n",
       "    </tr>\n",
       "  </thead>\n",
       "  <tbody>\n",
       "    <tr>\n",
       "      <th>0</th>\n",
       "      <td>tweets_before_english</td>\n",
       "      <td>0</td>\n",
       "      <td>310</td>\n",
       "      <td>220</td>\n",
       "      <td>0</td>\n",
       "      <td>0</td>\n",
       "      <td>0</td>\n",
       "      <td>0</td>\n",
       "      <td>0</td>\n",
       "      <td>42</td>\n",
       "      <td>14</td>\n",
       "      <td>0</td>\n",
       "      <td>20</td>\n",
       "      <td>2</td>\n",
       "      <td>0</td>\n",
       "    </tr>\n",
       "    <tr>\n",
       "      <th>1</th>\n",
       "      <td>tweets_after__english</td>\n",
       "      <td>60</td>\n",
       "      <td>1330</td>\n",
       "      <td>114</td>\n",
       "      <td>0</td>\n",
       "      <td>12</td>\n",
       "      <td>956</td>\n",
       "      <td>3</td>\n",
       "      <td>0</td>\n",
       "      <td>23</td>\n",
       "      <td>122</td>\n",
       "      <td>10</td>\n",
       "      <td>80</td>\n",
       "      <td>21</td>\n",
       "      <td>9</td>\n",
       "    </tr>\n",
       "    <tr>\n",
       "      <th>2</th>\n",
       "      <td>tweets_after_japanese</td>\n",
       "      <td>2623</td>\n",
       "      <td>19807</td>\n",
       "      <td>1144</td>\n",
       "      <td>886</td>\n",
       "      <td>693</td>\n",
       "      <td>598</td>\n",
       "      <td>586</td>\n",
       "      <td>477</td>\n",
       "      <td>81</td>\n",
       "      <td>5281</td>\n",
       "      <td>240</td>\n",
       "      <td>185</td>\n",
       "      <td>1313</td>\n",
       "      <td>220</td>\n",
       "    </tr>\n",
       "    <tr>\n",
       "      <th>3</th>\n",
       "      <td>tweets_before_japanese</td>\n",
       "      <td>0</td>\n",
       "      <td>1911</td>\n",
       "      <td>1039</td>\n",
       "      <td>0</td>\n",
       "      <td>0</td>\n",
       "      <td>0</td>\n",
       "      <td>0</td>\n",
       "      <td>0</td>\n",
       "      <td>464</td>\n",
       "      <td>286</td>\n",
       "      <td>0</td>\n",
       "      <td>236</td>\n",
       "      <td>223</td>\n",
       "      <td>0</td>\n",
       "    </tr>\n",
       "  </tbody>\n",
       "</table>\n",
       "</div>"
      ],
      "text/plain": [
       "                    title  #誹謗中傷   #木村花  #スターダム  #文春オンライン  #フジテレビ  \\\n",
       "0   tweets_before_english      0    310     220         0       0   \n",
       "1   tweets_after__english     60   1330     114         0      12   \n",
       "2   tweets_after_japanese   2623  19807    1144       886     693   \n",
       "3  tweets_before_japanese      0   1911    1039         0       0   \n",
       "\n",
       "   #RIPHanaKimura  #週刊文春  #スクープ速報  #TCS  #テラスハウス  #自殺  #stardom  #テラハ  #SNS  \n",
       "0               0      0        0    42       14    0        20     2     0  \n",
       "1             956      3        0    23      122   10        80    21     9  \n",
       "2             598    586      477    81     5281  240       185  1313   220  \n",
       "3               0      0        0   464      286    0       236   223     0  "
      ]
     },
     "execution_count": 24,
     "metadata": {},
     "output_type": "execute_result"
    }
   ],
   "source": [
    "df.head()"
   ]
  },
  {
   "cell_type": "code",
   "execution_count": 25,
   "id": "4ad22a19",
   "metadata": {},
   "outputs": [
    {
     "data": {
      "text/plain": [
       "(4, 15)"
      ]
     },
     "execution_count": 25,
     "metadata": {},
     "output_type": "execute_result"
    }
   ],
   "source": [
    "df.shape"
   ]
  },
  {
   "cell_type": "code",
   "execution_count": 26,
   "id": "0e635aa3",
   "metadata": {},
   "outputs": [
    {
     "data": {
      "text/plain": [
       "0       0\n",
       "1      60\n",
       "2    2623\n",
       "3       0\n",
       "Name: #誹謗中傷, dtype: int64"
      ]
     },
     "execution_count": 26,
     "metadata": {},
     "output_type": "execute_result"
    }
   ],
   "source": [
    "df['#誹謗中傷']"
   ]
  },
  {
   "cell_type": "code",
   "execution_count": null,
   "id": "b22c286f",
   "metadata": {},
   "outputs": [],
   "source": []
  }
 ],
 "metadata": {
  "kernelspec": {
   "display_name": "Python 3 (ipykernel)",
   "language": "python",
   "name": "python3"
  },
  "language_info": {
   "codemirror_mode": {
    "name": "ipython",
    "version": 3
   },
   "file_extension": ".py",
   "mimetype": "text/x-python",
   "name": "python",
   "nbconvert_exporter": "python",
   "pygments_lexer": "ipython3",
   "version": "3.9.7"
  }
 },
 "nbformat": 4,
 "nbformat_minor": 5
}
