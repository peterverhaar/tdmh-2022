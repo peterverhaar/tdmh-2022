{
 "cells": [
  {
   "cell_type": "code",
   "execution_count": 2,
   "id": "58d0d548",
   "metadata": {},
   "outputs": [],
   "source": [
    "import os\n",
    "import re\n",
    "import nltk\n",
    "from nltk import word_tokenize , sent_tokenize , pos_tag\n",
    "from tdmh import *\n",
    "import pandas as pd\n"
   ]
  },
  {
   "cell_type": "markdown",
   "id": "607133c3",
   "metadata": {},
   "source": [
    "# Organise the tweets\n",
    "\n",
    "Read all the downloaded tweets from the TSV files."
   ]
  },
  {
   "cell_type": "code",
   "execution_count": 10,
   "id": "4e6404e0",
   "metadata": {},
   "outputs": [],
   "source": [
    "path = os.path.join( 'HanaKimura' , 'tweets_hanakimura.tsv' )\n",
    "df1 = pd.read_csv( path  , encoding = 'utf-8' , sep = '\\t' )\n",
    "\n",
    "path = os.path.join( 'HanaKimura' , 'tweets_hanakimura_japanese.tsv' )\n",
    "df2 = pd.read_csv( path  , encoding = 'utf-8' , sep = '\\t' )\n",
    "\n",
    "path = os.path.join( 'HanaKimura' , 'tweets_kimurahana.tsv' )\n",
    "df3 = pd.read_csv( path  , encoding = 'utf-8' , sep = '\\t' )"
   ]
  },
  {
   "cell_type": "markdown",
   "id": "d3de72df",
   "metadata": {},
   "source": [
    "Change the 'created_at' date into a 'dateframe'"
   ]
  },
  {
   "cell_type": "code",
   "execution_count": 11,
   "id": "808c8b73",
   "metadata": {},
   "outputs": [],
   "source": [
    "df = pd.concat([df1, df2, df3])\n",
    "df['created_at']  = pd.to_datetime( df['created_at'] ).dt.tz_localize(None)"
   ]
  },
  {
   "cell_type": "markdown",
   "id": "7cbd3af9",
   "metadata": {},
   "source": [
    "The date of Hana Kimura's death"
   ]
  },
  {
   "cell_type": "code",
   "execution_count": 12,
   "id": "8987cb44",
   "metadata": {},
   "outputs": [],
   "source": [
    "date = pd.to_datetime( '2020-05-23' )"
   ]
  },
  {
   "cell_type": "code",
   "execution_count": 18,
   "id": "b3007bf2",
   "metadata": {},
   "outputs": [],
   "source": [
    "dir = 'Corpus'\n",
    "\n",
    "if not os.path.exists(dir):\n",
    "    os.mkdir(dir)\n",
    "\n",
    "path = os.path.join(dir, 'tweets_before_japanese.txt')\n",
    "out_before_japanese = open(  path, 'w' , encoding = 'utf-8')\n",
    "\n",
    "path = os.path.join(dir, 'tweets_before_english.txt' )\n",
    "out_before_english = open( path , 'w' , encoding = 'utf-8')\n",
    "\n",
    "path = os.path.join(dir, 'tweets_after_japanese.txt' )\n",
    "out_after_japanese = open( path , 'w' , encoding = 'utf-8')\n",
    "\n",
    "path = os.path.join(dir, 'tweets_after__english.txt' )\n",
    "out_after_english = open( path , 'w' , encoding = 'utf-8')\n",
    "\n",
    "\n",
    "for i,row in df.iterrows():\n",
    "    if not re.search( r'^RT' , row['text'] ):\n",
    "        if row['created_at'] < date:\n",
    "            if row['lang'] == 'ja' :\n",
    "                out_before_japanese.write( f\"{row['text']}\\n\" )\n",
    "            else:\n",
    "                out_before_english.write( f\"{row['text']}\\n\" )\n",
    "        else:\n",
    "            if row['lang'] == 'ja':\n",
    "                out_after_japanese.write( f\"{row['text']}\\n\" )\n",
    "            else:\n",
    "                out_after_english.write( f\"{row['text']}\\n\" )\n",
    "            \n",
    "        \n",
    "out_before_japanese.close()\n",
    "out_before_english.close()\n",
    "out_after_japanese.close()\n",
    "out_after_english.close()\n",
    "    "
   ]
  },
  {
   "cell_type": "markdown",
   "id": "54f3b500",
   "metadata": {},
   "source": [
    "## Create a list of all the files in the corpus"
   ]
  },
  {
   "cell_type": "code",
   "execution_count": 3,
   "id": "408225eb",
   "metadata": {},
   "outputs": [],
   "source": [
    "\n",
    "\n",
    "texts = []\n",
    "dir = 'Corpus'\n",
    "\n",
    "for file in os.listdir(dir):\n",
    "    if re.search( r'txt$' , file ):\n",
    "        path = os.path.join( dir , file )\n",
    "        texts.append(path)\n"
   ]
  },
  {
   "cell_type": "markdown",
   "id": "f23214a0",
   "metadata": {},
   "source": [
    "## create text analysis functions"
   ]
  },
  {
   "cell_type": "code",
   "execution_count": 9,
   "id": "48dd9af6",
   "metadata": {},
   "outputs": [],
   "source": [
    "def get_all_hashtags(full_text):\n",
    "    freq = dict()\n",
    "    hash_tags = re.findall( r'#\\w+\\b' , full_text )\n",
    "    for tag in hash_tags:\n",
    "        freq[tag] = freq.get(tag,0) + 1\n",
    "    return freq\n",
    "\n",
    "def merge_dictionaries(x,y):\n",
    "    z = x.copy()   \n",
    "    z.update(y)   \n",
    "    return z\n",
    "\n",
    "\n",
    "def get_title(path):\n",
    "    title = os.path.basename(path)\n",
    "    if re.search( r'txt$' , title ):\n",
    "        # Remove txt extension\n",
    "        title = title[ :title.index('.txt') ]\n",
    "        # remove commas and dots\n",
    "        title = re.sub( r'[.,]' , '' , title )\n",
    "    return title"
   ]
  },
  {
   "cell_type": "markdown",
   "id": "f8466688",
   "metadata": {},
   "source": [
    "## create data for all  the texts in the corpus"
   ]
  },
  {
   "cell_type": "code",
   "execution_count": 18,
   "id": "33d47b20",
   "metadata": {},
   "outputs": [
    {
     "name": "stdout",
     "output_type": "stream",
     "text": [
      "['#誹謗中傷', '#木村花', '#スターダム', '#文春オンライン', '#フジテレビ', '#RIPHanaKimura', '#週刊文春', '#スクープ速報', '#TCS', '#テラスハウス', '#自殺', '#stardom', '#テラハ', '#SNS']\n"
     ]
    }
   ],
   "source": [
    "all_tags = dict()\n",
    "\n",
    "for text in texts: \n",
    "    f = open( text , encoding = 'utf-8')\n",
    "    full_text = f.read()\n",
    "    hash_tags = get_all_hashtags(full_text)\n",
    "    all_tags = merge_dictionaries(all_tags,hash_tags)\n",
    "\n",
    "most_frequent = []\n",
    "for tag in sortedByValue( all_tags , ascending = False):\n",
    "    if all_tags[tag] > 200:\n",
    "        most_frequent.append(tag)\n",
    "    "
   ]
  },
  {
   "cell_type": "code",
   "execution_count": 21,
   "id": "fe796f3c",
   "metadata": {},
   "outputs": [
    {
     "name": "stdout",
     "output_type": "stream",
     "text": [
      "Analysing Corpus/tweets_before_english.txt ...\n",
      "Analysing Corpus/tweets_after__english.txt ...\n",
      "Analysing Corpus/tweets_after_japanese.txt ...\n",
      "Analysing Corpus/tweets_before_japanese.txt ...\n",
      "Done!\n"
     ]
    }
   ],
   "source": [
    "\n",
    "\n",
    "\n",
    "out = open( 'data.csv' , 'w' , encoding = 'utf-8' )\n",
    "\n",
    "out.write('title')\n",
    "for t in most_frequent:\n",
    "    out.write( f',{t}' )\n",
    "out.write('\\n')\n",
    "\n",
    "for text in texts:\n",
    "    \n",
    "    data = dict()\n",
    "    print( f'Analysing {text} ...')\n",
    "    \n",
    "    ## Get the title, based on the filename\n",
    "    title = get_title( text )\n",
    "    \n",
    "    ## read the full text\n",
    "    fh = open( text, encoding = 'utf-8')\n",
    "    full_text = fh.read()\n",
    "    \n",
    "    hash_tags = get_all_hashtags(full_text)\n",
    "    \n",
    "    out.write( f'{title}')\n",
    "    for t in most_frequent:\n",
    "        out.write( f',{hash_tags.get(t,0)}' )\n",
    "    out.write('\\n')\n",
    "    \n",
    "    \n",
    "\n",
    "out.close()\n",
    "print('Done!')"
   ]
  },
  {
   "cell_type": "code",
   "execution_count": null,
   "id": "a043f7dc",
   "metadata": {},
   "outputs": [],
   "source": []
  }
 ],
 "metadata": {
  "kernelspec": {
   "display_name": "Python 3 (ipykernel)",
   "language": "python",
   "name": "python3"
  },
  "language_info": {
   "codemirror_mode": {
    "name": "ipython",
    "version": 3
   },
   "file_extension": ".py",
   "mimetype": "text/x-python",
   "name": "python",
   "nbconvert_exporter": "python",
   "pygments_lexer": "ipython3",
   "version": "3.7.9"
  }
 },
 "nbformat": 4,
 "nbformat_minor": 5
}
