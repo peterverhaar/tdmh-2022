{
 "cells": [
  {
   "cell_type": "code",
   "execution_count": 1,
   "id": "bad6044f",
   "metadata": {},
   "outputs": [],
   "source": [
    "import os\n",
    "import re\n",
    "import nltk\n",
    "from nltk import word_tokenize , sent_tokenize , pos_tag\n",
    "from tdmh import *\n",
    "import requests\n",
    "\n",
    "## create subdirectories in Corpus\n",
    "\n",
    "if not os.path.exists('Corpus'):\n",
    "    os.mkdir('Corpus')\n",
    "    \n",
    "path1 = os.path.join('Corpus' , 'Austen')\n",
    "if not os.path.exists( path1 ):\n",
    "    os.mkdir( path1 )  \n",
    "    \n",
    "path2 = os.path.join('Corpus' , 'Scott')\n",
    "if not os.path.exists( path2 ):\n",
    "    os.mkdir( path2 ) "
   ]
  },
  {
   "cell_type": "code",
   "execution_count": 2,
   "id": "22f7b17b",
   "metadata": {},
   "outputs": [],
   "source": [
    "texts = []\n",
    "\n",
    "# path1 = os.path.join( 'Corpus' , 'Scott' )\n",
    "# path2 = os.path.join( 'Corpus' , 'Scott' )\n",
    "subcorpora = ['Scott','Austen']\n",
    "\n",
    "\n",
    "author_dir = dict()\n",
    "\n",
    "for dir in subcorpora:\n",
    "    path = os.path.join( 'Corpus' , dir )\n",
    "    for file in os.listdir(path):\n",
    "        if re.search( r'txt$' , file ):\n",
    "            path = os.path.join( 'Corpus' , dir , file )\n",
    "            author_dir[path] = dir\n",
    "            texts.append(path)"
   ]
  },
  {
   "cell_type": "code",
   "execution_count": 3,
   "id": "47de7bee",
   "metadata": {},
   "outputs": [],
   "source": [
    "def get_title(path):\n",
    "    title = os.path.basename(path)\n",
    "    if re.search( r'txt$' , title ):\n",
    "        # Remove txt extension\n",
    "        title = title[ :title.index('.txt') ]\n",
    "        # remove commas and dots\n",
    "        title = re.sub( r'[.,]' , '' , title )\n",
    "    return title"
   ]
  },
  {
   "cell_type": "code",
   "execution_count": 4,
   "id": "bf4e4f5d",
   "metadata": {},
   "outputs": [
    {
     "name": "stdout",
     "output_type": "stream",
     "text": [
      "Analysing Corpus/Scott/Ivanhoe.txt ...\n",
      "Analysing Corpus/Scott/Rob Roy.txt ...\n",
      "Analysing Corpus/Scott/The Antiquary.txt ...\n",
      "Analysing Corpus/Scott/The Talisman.txt ...\n",
      "Analysing Corpus/Scott/TheLadyoftheLake.txt ...\n",
      "Analysing Corpus/Scott/Waverley.txt ...\n",
      "Analysing Corpus/Austen/Emma.txt ...\n",
      "Analysing Corpus/Austen/Mansfield Park.txt ...\n",
      "Analysing Corpus/Austen/Northanger Abbey.txt ...\n",
      "Analysing Corpus/Austen/Persuasion.txt ...\n",
      "Analysing Corpus/Austen/PrideandPrejuidice.txt ...\n",
      "Analysing Corpus/Austen/SenseandSensibility.txt ...\n",
      "Done!\n"
     ]
    }
   ],
   "source": [
    "out = open( 'data.csv' , 'w' , encoding = 'utf-8' )\n",
    "\n",
    "pos_tags = ['JJ' , 'MD' , 'JJR' , 'JJS' , 'VBD']\n",
    "\n",
    "## Header of the CSV file\n",
    "out.write('title,author,tokens,sentences,ttr')\n",
    "\n",
    "for t in pos_tags:\n",
    "    out.write(f',{t}')\n",
    "out.write('\\n')\n",
    "\n",
    "for text in texts:\n",
    "    \n",
    "    data = dict()\n",
    "    print( f'Analysing {text} ...')\n",
    "    \n",
    "    ## Get the title, based on the filename\n",
    "    title = get_title( text )\n",
    "    \n",
    "    ## read the full text\n",
    "    fh = open( text, encoding = 'utf-8')\n",
    "    full_text = fh.read()\n",
    "    \n",
    "    ## count the number of sentences\n",
    "    sentences = sent_tokenize(full_text)\n",
    "    data['nr_sentences'] = len(sentences)\n",
    "    \n",
    "    # dictionary to count the POS tags\n",
    "    freq_pos = dict()    \n",
    "    \n",
    "    # variables for the calculation of type-token ratio\n",
    "    ttr_cap = 3000\n",
    "    freq_ttr = dict()\n",
    " \n",
    "    # token count is initalised at 0\n",
    "    data['nr_tokens'] = 0\n",
    "\n",
    "    for s in sentences:\n",
    "        words = word_tokenize(s)\n",
    "        words = remove_punctuation(words)\n",
    "        \n",
    "        tags = pos_tag(words)\n",
    "        # Each tag consists of two values: \n",
    "        # [0]: the word and [1] the POS tag\n",
    "        for word_tag in tags:\n",
    "            word = word_tag[0]\n",
    "            tag = word_tag[1]\n",
    "            \n",
    "            # count the tokens\n",
    "            data['nr_tokens'] += 1\n",
    "            \n",
    "            # place tokens in dictionary freq_ttr\n",
    "            # only if the word count is less than ttr_cap\n",
    "            # The nr of items in the dictionary eventually equals the nr of types\n",
    "            if data['nr_tokens'] <= ttr_cap:\n",
    "                freq_ttr[ word ] = freq_ttr.get( word , 0 ) + 1\n",
    "                \n",
    "            ## Count frequencies of all the POS tags\n",
    "            freq_pos[ tag ] = freq_pos.get( tag ,0) +1\n",
    "\n",
    "    for t in pos_tags:\n",
    "        data[t] = freq_pos.get(t,0)\n",
    "                \n",
    "    # Calculate TTR: number of items in freq_ttr dictyionary\n",
    "    # divided by ttr_cap\n",
    "    data['ttr'] = len( freq_ttr ) / ttr_cap\n",
    "    \n",
    "    # write the results to a CSV file    \n",
    "    out.write( f\"{title},{author_dir[text]},{data['nr_tokens']},{data['nr_sentences']},{data['ttr']}\" )\n",
    "    for t in pos_tags:\n",
    "        out.write( f\",{data[t] / data['nr_tokens'] }\"  )\n",
    "    out.write('\\n')\n",
    "    \n",
    "out.close()\n",
    "print('Done!')\n"
   ]
  },
  {
   "cell_type": "code",
   "execution_count": 5,
   "id": "93086a27",
   "metadata": {},
   "outputs": [],
   "source": [
    "import os\n",
    "import re\n",
    "import nltk\n",
    "from nltk import word_tokenize , sent_tokenize , pos_tag\n",
    "from tdmh import *\n",
    "import requests"
   ]
  },
  {
   "cell_type": "code",
   "execution_count": 6,
   "id": "7b2d4342",
   "metadata": {},
   "outputs": [],
   "source": [
    "texts = []\n",
    "\n",
    "# path1 = os.path.join( 'Corpus' , 'Scott' )\n",
    "# path2 = os.path.join( 'Corpus' , 'Scott' )\n",
    "subcorpora = ['Scott','Austen']\n",
    "\n",
    "\n",
    "author_dir = dict()\n",
    "\n",
    "for dir in subcorpora:\n",
    "    path = os.path.join( 'Corpus' , dir )\n",
    "    for file in os.listdir(path):\n",
    "        if re.search( r'txt$' , file ):\n",
    "            path = os.path.join( 'Corpus' , dir , file )\n",
    "            author_dir[path] = dir\n",
    "            texts.append(path)"
   ]
  },
  {
   "cell_type": "code",
   "execution_count": 7,
   "id": "88e925a0",
   "metadata": {},
   "outputs": [],
   "source": [
    "import pandas as pd\n",
    "\n",
    "data = pd.read_csv( 'data.csv')"
   ]
  },
  {
   "cell_type": "code",
   "execution_count": 9,
   "id": "30419457",
   "metadata": {},
   "outputs": [
    {
     "name": "stdout",
     "output_type": "stream",
     "text": [
      "0.4543333333333333\n",
      "0.0687365824314703\n",
      "0.019208211140838215\n",
      "0.03522301080088899\n"
     ]
    }
   ],
   "source": [
    "print(data['ttr'].max() )\n",
    "## max() identifies the highest number within the column that is mentioned within the square brackets.\n",
    "\n",
    "print( data['JJ'].max() )\n",
    "# min() identifies the lowest number\n",
    "\n",
    "print( data['MD'].mean() )\n",
    "# mean() calculates the mean of all the values in a specific column\n",
    "\n",
    "print( data['JJR'].sum() )\n",
    "## sum() performs an addition of all the numbers in a column"
   ]
  },
  {
   "cell_type": "code",
   "execution_count": 31,
   "id": "ea182bd4",
   "metadata": {},
   "outputs": [],
   "source": [
    "import seaborn as sns\n",
    "import matplotlib.pyplot as plt"
   ]
  },
  {
   "cell_type": "code",
   "execution_count": 60,
   "id": "ccab8e11",
   "metadata": {},
   "outputs": [
    {
     "data": {
      "image/png": "[encoded data removed]",
      "text/plain": [
       "<Figure size 432x432 with 1 Axes>"
      ]
     },
     "metadata": {},
     "output_type": "display_data"
    }
   ],
   "source": [
    "import matplotlib.pyplot as plt\n",
    "\n",
    "plt.style.use('seaborn-whitegrid')\n",
    "\n",
    "fig = plt.figure( figsize = ( 6,6 ))\n",
    "ax = plt.axes()\n",
    "\n",
    "\n",
    "ax.scatter( data['JJR'] , data['JJS'] , alpha=0.8,  s=80 , c = colours)\n",
    "\n",
    "ax.set_xlabel('Adjective, comparative' , fontsize = 16 )\n",
    "ax.set_ylabel('Adjective, superlative' , fontsize = 16 )\n",
    "\n",
    "plt.title('Use of adjectives scatter plot')\n",
    "\n",
    "for item in legendDict:\n",
    "    plt.scatter( [], [], c = item , label = legendDict[item] )\n",
    "\n",
    "plt.legend(loc=2 , frameon=True ,  prop={'size': 14} )\n",
    "\n",
    "plt.show()"
   ]
  },
  {
   "cell_type": "code",
   "execution_count": 57,
   "id": "05554114",
   "metadata": {},
   "outputs": [],
   "source": [
    "colours = []\n",
    "legendDict = dict()\n",
    "\n",
    "for index , row in data.iterrows():\n",
    "\n",
    "    if row[\"author\"] == 'Austen':\n",
    "        colours.append( '#76FF7b' )\n",
    "        legendDict[ colours[index] ] = row[\"author\"]\n",
    "    elif row[\"author\"] == 'Scott':\n",
    "        colours.append( '#000080' )\n",
    "        legendDict[ colours[index] ] = row[\"author\"]"
   ]
  },
  {
   "cell_type": "code",
   "execution_count": 86,
   "id": "668c4830",
   "metadata": {},
   "outputs": [
    {
     "data": {
      "image/png": "[encoded data removed]",
      "text/plain": [
       "<Figure size 1440x432 with 1 Axes>"
      ]
     },
     "metadata": {
      "needs_background": "light"
     },
     "output_type": "display_data"
    }
   ],
   "source": [
    "%matplotlib inline\n",
    "\n",
    "import matplotlib.pyplot as plt\n",
    "import pandas as pd\n",
    "\n",
    "mean_ttr = data.groupby( 'title' )['ttr'].mean()\n",
    "\n",
    "x_axis = mean_ttr.index.tolist()\n",
    "y_axis = mean_ttr.tolist()\n",
    "\n",
    "fig = plt.figure( figsize=(20,6) )\n",
    "ax = plt.axes()\n",
    "\n",
    "ax.bar( x_axis , y_axis )\n",
    "\n",
    "ax.set_xlabel('Titles' , fontsize= 20)\n",
    "ax.set_ylabel('Type token ratio' , fontsize = 20 )\n",
    "ax.set_title( 'Type token ratio' , fontsize=28 )\n",
    "\n",
    "plt.show()"
   ]
  },
  {
   "cell_type": "code",
   "execution_count": 61,
   "id": "d400bdc2",
   "metadata": {},
   "outputs": [
    {
     "name": "stdout",
     "output_type": "stream",
     "text": [
      "Requirement already satisfied: vaderSentiment in /opt/anaconda3/lib/python3.9/site-packages (3.3.2)\r\n",
      "Requirement already satisfied: requests in /opt/anaconda3/lib/python3.9/site-packages (from vaderSentiment) (2.26.0)\r\n",
      "Requirement already satisfied: idna<4,>=2.5 in /opt/anaconda3/lib/python3.9/site-packages (from requests->vaderSentiment) (3.2)\r\n",
      "Requirement already satisfied: charset-normalizer~=2.0.0 in /opt/anaconda3/lib/python3.9/site-packages (from requests->vaderSentiment) (2.0.4)\r\n",
      "Requirement already satisfied: urllib3<1.27,>=1.21.1 in /opt/anaconda3/lib/python3.9/site-packages (from requests->vaderSentiment) (1.26.7)\r\n",
      "Requirement already satisfied: certifi>=2017.4.17 in /opt/anaconda3/lib/python3.9/site-packages (from requests->vaderSentiment) (2021.10.8)\r\n"
     ]
    }
   ],
   "source": [
    "#sentiment analysis\n",
    "import sys\n",
    "!pip install vaderSentiment"
   ]
  },
  {
   "cell_type": "code",
   "execution_count": 62,
   "id": "cd5aa41d",
   "metadata": {},
   "outputs": [],
   "source": [
    "from vaderSentiment.vaderSentiment import SentimentIntensityAnalyzer \n",
    "#from nltk.sentiment.vader import SentimentIntensityAnalyzer\n",
    "\n",
    "ana = SentimentIntensityAnalyzer()"
   ]
  },
  {
   "cell_type": "code",
   "execution_count": 77,
   "id": "8d0f82aa",
   "metadata": {},
   "outputs": [
    {
     "name": "stdout",
     "output_type": "stream",
     "text": [
      ".DS_Store\n",
      "Austen\n",
      "Scott\n",
      "5964\n",
      "189829\n"
     ]
    }
   ],
   "source": [
    "from nltk import word_tokenize\n",
    "from nltk.tokenize import sent_tokenize\n",
    "from os.path import join\n",
    "from tdmh import*\n",
    "\n",
    "import os\n",
    "\n",
    "dir = 'Corpus'\n",
    "for fileName in os.listdir( dir ):\n",
    "    print( fileName )\n",
    "    \n",
    "novel = open( join('Corpus', 'Austen', 'Emma.txt') , encoding = 'utf-8')\n",
    "full_text = novel.read()\n",
    "\n",
    "sentences = sent_tokenize(full_text)\n",
    "print(len(sentences))\n",
    "\n",
    "words = word_tokenize(full_text)\n",
    "print(len(words))"
   ]
  },
  {
   "cell_type": "code",
   "execution_count": 80,
   "id": "23554122",
   "metadata": {},
   "outputs": [
    {
     "name": "stdout",
     "output_type": "stream",
     "text": [
      "9527\n",
      "4891\n"
     ]
    }
   ],
   "source": [
    "positive_words = []\n",
    "negative_words = []\n",
    "\n",
    "for word in words:\n",
    "    scores = ana.polarity_scores(word)\n",
    "    if scores[\"pos\"] > 0.75:\n",
    "        positive_words.append(word)\n",
    "    elif scores[\"neg\"] > 0.75:\n",
    "        negative_words.append(word)\n",
    "        \n",
    "#print( positive_words) \n",
    "#print( negative_words) \n",
    "\n",
    "print( len(positive_words) )\n",
    "print( len(negative_words) )\n"
   ]
  },
  {
   "cell_type": "code",
   "execution_count": 84,
   "id": "73f75d61",
   "metadata": {},
   "outputs": [
    {
     "name": "stdout",
     "output_type": "stream",
     "text": [
      "Average sentiment score for \"Emma\":\n",
      "0.129\n",
      "Average sentiment score for \"Pride and Prejudice\":\n",
      "0.124\n"
     ]
    }
   ],
   "source": [
    "#Comparing texts\n",
    "from nltk import sent_tokenize\n",
    "from os.path import join\n",
    "\n",
    "def average_score(file):\n",
    "    all_scores = []\n",
    "    file = open( file , encoding = 'utf-8' )\n",
    "    full_text = file.read()\n",
    "    sentences = sent_tokenize( full_text )\n",
    "    for s in sentences:\n",
    "        scores = ana.polarity_scores(s)\n",
    "        all_scores.append( scores[\"pos\"] )\n",
    "    return sum(all_scores) / len(all_scores)\n",
    "        \n",
    "\n",
    "path = join( 'Corpus', 'Austen', 'Emma.txt' )\n",
    "print( 'Average sentiment score for \"Emma\":' )\n",
    "print( f'{ round( average_score(path),3) }' )\n",
    "\n",
    "path = join( 'Corpus' , 'Austen' , 'PrideandPrejuidice.txt' )\n",
    "print( 'Average sentiment score for \"Pride and Prejudice\":' )\n",
    "print( f'{ round( average_score(path),3) }' )"
   ]
  },
  {
   "cell_type": "code",
   "execution_count": null,
   "id": "a303c2ac",
   "metadata": {},
   "outputs": [],
   "source": []
  }
 ],
 "metadata": {
  "kernelspec": {
   "display_name": "Python 3 (ipykernel)",
   "language": "python",
   "name": "python3"
  },
  "language_info": {
   "codemirror_mode": {
    "name": "ipython",
    "version": 3
   },
   "file_extension": ".py",
   "mimetype": "text/x-python",
   "name": "python",
   "nbconvert_exporter": "python",
   "pygments_lexer": "ipython3",
   "version": "3.9.7"
  }
 },
 "nbformat": 4,
 "nbformat_minor": 5
}
